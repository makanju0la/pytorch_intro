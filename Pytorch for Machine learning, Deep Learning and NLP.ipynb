{
  "cells": [
    {
      "cell_type": "markdown",
      "source": [
        "#Introduction to PyTorch"
      ],
      "metadata": {
        "id": "lBpf6imQ1xZe"
      },
      "id": "lBpf6imQ1xZe"
    },
    {
      "cell_type": "markdown",
      "source": [
        "> **Here is a very good reference tutorial video [youtube](https://www.youtube.com/watch?v=IC0_FRiX-sw). We will refer to some part of the video during in this workshop.**"
      ],
      "metadata": {
        "id": "xZgyK0xJ1cnY"
      },
      "id": "xZgyK0xJ1cnY"
    },
    {
      "cell_type": "markdown",
      "id": "f136ca39-f817-46dd-83e8-4228ac6a5ec3",
      "metadata": {
        "id": "f136ca39-f817-46dd-83e8-4228ac6a5ec3"
      },
      "source": [
        "PyTorch is a library for Python programs that facilitates building deep learning projects, it is similar to Numpy, but with strong GPU acceleration.\n",
        "\n",
        "PyTorch emphasizes flexibility and allows deep learning models to be expressed in Python."
      ]
    },
    {
      "cell_type": "markdown",
      "id": "9a96f894-0698-4825-81db-0cc1c5f8bd2d",
      "metadata": {
        "id": "9a96f894-0698-4825-81db-0cc1c5f8bd2d"
      },
      "source": [
        "Here we import necessary python packages which will be useful for the later part of the tutorial."
      ]
    },
    {
      "cell_type": "code",
      "source": [
        "!pip install --no-index torch-sparse -f https://pytorch-geometric.com/whl/torch-1.12.1+cu113.html\n",
        "!pip install --no-index torch-scatter -f https://pytorch-geometric.com/whl/torch-1.12.1+cu113.html\n",
        "!pip install --no-index torch-cluster -f https://pytorch-geometric.com/whl/torch-1.12.1+cu113.html\n",
        "!pip install --no-index torch-spline-conv -f https://pytorch-geometric.com/whl/torch-1.12.1+cu113.html\n",
        "!pip install torch-geometric"
      ],
      "metadata": {
        "colab": {
          "base_uri": "https://localhost:8080/"
        },
        "id": "dJmiYoimJI4w",
        "outputId": "3cc9b47d-17e7-4680-c313-d14ab6532b3f"
      },
      "id": "dJmiYoimJI4w",
      "execution_count": 184,
      "outputs": [
        {
          "output_type": "stream",
          "name": "stdout",
          "text": [
            "Looking in links: https://pytorch-geometric.com/whl/torch-1.12.1+cu113.html\n",
            "Requirement already satisfied: torch-sparse in /usr/local/lib/python3.7/dist-packages (0.6.15)\n",
            "Requirement already satisfied: scipy in /usr/local/lib/python3.7/dist-packages (from torch-sparse) (1.7.3)\n",
            "Requirement already satisfied: numpy<1.23.0,>=1.16.5 in /usr/local/lib/python3.7/dist-packages (from scipy->torch-sparse) (1.21.6)\n",
            "Looking in links: https://pytorch-geometric.com/whl/torch-1.12.1+cu113.html\n",
            "Requirement already satisfied: torch-scatter in /usr/local/lib/python3.7/dist-packages (2.0.9)\n",
            "Looking in links: https://pytorch-geometric.com/whl/torch-1.12.1+cu113.html\n",
            "Requirement already satisfied: torch-cluster in /usr/local/lib/python3.7/dist-packages (1.6.0)\n",
            "Looking in links: https://pytorch-geometric.com/whl/torch-1.12.1+cu113.html\n",
            "Requirement already satisfied: torch-spline-conv in /usr/local/lib/python3.7/dist-packages (1.2.1)\n",
            "Looking in indexes: https://pypi.org/simple, https://us-python.pkg.dev/colab-wheels/public/simple/\n",
            "Requirement already satisfied: torch-geometric in /usr/local/lib/python3.7/dist-packages (2.1.0.post1)\n",
            "Requirement already satisfied: jinja2 in /usr/local/lib/python3.7/dist-packages (from torch-geometric) (2.11.3)\n",
            "Requirement already satisfied: numpy in /usr/local/lib/python3.7/dist-packages (from torch-geometric) (1.21.6)\n",
            "Requirement already satisfied: scikit-learn in /usr/local/lib/python3.7/dist-packages (from torch-geometric) (1.0.2)\n",
            "Requirement already satisfied: scipy in /usr/local/lib/python3.7/dist-packages (from torch-geometric) (1.7.3)\n",
            "Requirement already satisfied: requests in /usr/local/lib/python3.7/dist-packages (from torch-geometric) (2.23.0)\n",
            "Requirement already satisfied: pyparsing in /usr/local/lib/python3.7/dist-packages (from torch-geometric) (3.0.9)\n",
            "Requirement already satisfied: tqdm in /usr/local/lib/python3.7/dist-packages (from torch-geometric) (4.64.1)\n",
            "Requirement already satisfied: MarkupSafe>=0.23 in /usr/local/lib/python3.7/dist-packages (from jinja2->torch-geometric) (2.0.1)\n",
            "Requirement already satisfied: certifi>=2017.4.17 in /usr/local/lib/python3.7/dist-packages (from requests->torch-geometric) (2022.9.24)\n",
            "Requirement already satisfied: idna<3,>=2.5 in /usr/local/lib/python3.7/dist-packages (from requests->torch-geometric) (2.10)\n",
            "Requirement already satisfied: urllib3!=1.25.0,!=1.25.1,<1.26,>=1.21.1 in /usr/local/lib/python3.7/dist-packages (from requests->torch-geometric) (1.24.3)\n",
            "Requirement already satisfied: chardet<4,>=3.0.2 in /usr/local/lib/python3.7/dist-packages (from requests->torch-geometric) (3.0.4)\n",
            "Requirement already satisfied: joblib>=0.11 in /usr/local/lib/python3.7/dist-packages (from scikit-learn->torch-geometric) (1.2.0)\n",
            "Requirement already satisfied: threadpoolctl>=2.0.0 in /usr/local/lib/python3.7/dist-packages (from scikit-learn->torch-geometric) (3.1.0)\n"
          ]
        }
      ]
    },
    {
      "cell_type": "code",
      "execution_count": 185,
      "id": "a41d3a37-6096-4c5a-a1a5-f9ca3c2c5cc9",
      "metadata": {
        "id": "a41d3a37-6096-4c5a-a1a5-f9ca3c2c5cc9"
      },
      "outputs": [],
      "source": [
        "import torch\n",
        "import torch.nn as nn\n",
        "import torch.nn.functional as F\n",
        "from torch.utils.data import DataLoader, TensorDataset\n",
        "\n",
        "import torchvision\n",
        "import torchvision.transforms as transforms\n",
        "import torch.optim as optim\n",
        "\n",
        "import torchtext\n",
        "from torchtext.data import get_tokenizer\n",
        "\n",
        "from torch_geometric.data import Data\n",
        "from torch_geometric.transforms import RandomNodeSplit as nodeSplit\n",
        "from torch_geometric.utils.convert import to_networkx\n",
        "from torch_geometric.nn import GCNConv\n",
        "\n",
        "import networkx as nx\n",
        "\n",
        "import json\n",
        "import collections\n",
        "import numpy as np\n",
        "import pandas as pd\n",
        "import matplotlib.pyplot as plt\n",
        "device = torch.device('cuda' if torch.cuda.is_available() else 'cpu')"
      ]
    },
    {
      "cell_type": "code",
      "execution_count": 186,
      "id": "1fa5d78c-0220-4c65-b05e-96a83e6315ef",
      "metadata": {
        "id": "1fa5d78c-0220-4c65-b05e-96a83e6315ef"
      },
      "outputs": [],
      "source": [
        "from sklearn.metrics import accuracy_score\n",
        "from sklearn.metrics import precision_score\n",
        "\n",
        "from sklearn.metrics import recall_score\n",
        "from sklearn.metrics import f1_score"
      ]
    },
    {
      "cell_type": "markdown",
      "id": "bcc05221-7e5e-4faa-b2a3-9b6969c02ed9",
      "metadata": {
        "id": "bcc05221-7e5e-4faa-b2a3-9b6969c02ed9"
      },
      "source": [
        "# 1. Tensor"
      ]
    },
    {
      "cell_type": "markdown",
      "id": "fb3171f3-2073-4964-86ec-ed993174cb06",
      "metadata": {
        "id": "fb3171f3-2073-4964-86ec-ed993174cb06"
      },
      "source": [
        "A PyTorch Tensor is basically the same as a numpy array: it does not know anything about deep learning or computational graphs or gradients, and is just a generic n-dimensional array to be used for arbitrary numeric computation.\n",
        "\n",
        "The biggest difference between a numpy array and a PyTorch Tensor is that a PyTorch Tensor can run on either CPU or GPU. "
      ]
    },
    {
      "cell_type": "markdown",
      "id": "ffd8280c-6e83-4a37-9418-e80926785239",
      "metadata": {
        "id": "ffd8280c-6e83-4a37-9418-e80926785239"
      },
      "source": [
        "## 1.1 Initializing a Tensor"
      ]
    },
    {
      "cell_type": "code",
      "source": [
        "#Preambles\n",
        "#numpy arrays, mathematical expressions etc\n",
        "\n",
        "import random\n",
        "#List\n",
        "digits = [2,4,6,8,10]\n",
        "sample = random.sample(range(0,100), 10)\n",
        "print(digits)\n",
        "print(sample)\n",
        "print(sum(digits))\n",
        "\n",
        "#numpy array\n",
        "array = np.random.rand(3,2)\n",
        "print(array)\n",
        "\n",
        "#numpy array from list\n",
        "array1 = np.array(sample)\n",
        "array1"
      ],
      "metadata": {
        "id": "9dF7AUAuERsR",
        "colab": {
          "base_uri": "https://localhost:8080/"
        },
        "outputId": "66352436-2f59-4702-e539-2796ba19c185"
      },
      "id": "9dF7AUAuERsR",
      "execution_count": 187,
      "outputs": [
        {
          "output_type": "stream",
          "name": "stdout",
          "text": [
            "[2, 4, 6, 8, 10]\n",
            "[40, 44, 91, 7, 13, 85, 43, 58, 12, 32]\n",
            "30\n",
            "[[0.19264523 0.7856857 ]\n",
            " [0.66173945 0.84229509]\n",
            " [0.56922952 0.9654574 ]]\n"
          ]
        },
        {
          "output_type": "execute_result",
          "data": {
            "text/plain": [
              "array([40, 44, 91,  7, 13, 85, 43, 58, 12, 32])"
            ]
          },
          "metadata": {},
          "execution_count": 187
        }
      ]
    },
    {
      "cell_type": "markdown",
      "id": "42a1f92b-90fd-4b09-8529-fe5b66fbea54",
      "metadata": {
        "id": "42a1f92b-90fd-4b09-8529-fe5b66fbea54"
      },
      "source": [
        "We have four different way to initialize a tensor."
      ]
    },
    {
      "cell_type": "code",
      "execution_count": 188,
      "id": "626af831-f2b5-4b8a-bb15-571f30d04b33",
      "metadata": {
        "id": "626af831-f2b5-4b8a-bb15-571f30d04b33"
      },
      "outputs": [],
      "source": [
        "# 1. with random or constant values"
      ]
    },
    {
      "cell_type": "code",
      "execution_count": 189,
      "id": "78a8faa3-3bc9-4d33-84f9-800aec247ff9",
      "metadata": {
        "id": "78a8faa3-3bc9-4d33-84f9-800aec247ff9"
      },
      "outputs": [],
      "source": [
        "x = torch.rand(5, 3)"
      ]
    },
    {
      "cell_type": "code",
      "execution_count": 190,
      "id": "98be729c-cf19-44b7-b13c-95c736bff4ea",
      "metadata": {
        "id": "98be729c-cf19-44b7-b13c-95c736bff4ea",
        "outputId": "f2ff9732-3d7b-44d2-9734-91b68486d29d",
        "colab": {
          "base_uri": "https://localhost:8080/"
        }
      },
      "outputs": [
        {
          "output_type": "stream",
          "name": "stdout",
          "text": [
            "tensor([[0.7658, 0.7950, 0.9892],\n",
            "        [0.7823, 0.3793, 0.3346],\n",
            "        [0.1594, 0.0906, 0.5588],\n",
            "        [0.8357, 0.2935, 0.3931],\n",
            "        [0.1426, 0.9513, 0.5351]])\n"
          ]
        }
      ],
      "source": [
        "print(x)"
      ]
    },
    {
      "cell_type": "code",
      "execution_count": 191,
      "id": "6de7baf9-72a5-4f47-9707-4708bbbc3651",
      "metadata": {
        "id": "6de7baf9-72a5-4f47-9707-4708bbbc3651",
        "outputId": "68c85888-d64d-4773-e945-f0f985a7386a",
        "colab": {
          "base_uri": "https://localhost:8080/"
        }
      },
      "outputs": [
        {
          "output_type": "stream",
          "name": "stdout",
          "text": [
            "tensor([[0, 0, 0],\n",
            "        [0, 0, 0],\n",
            "        [0, 0, 0],\n",
            "        [0, 0, 0],\n",
            "        [0, 0, 0]])\n"
          ]
        }
      ],
      "source": [
        "x = torch.zeros(5, 3, dtype=torch.long)\n",
        "print(x)"
      ]
    },
    {
      "cell_type": "code",
      "execution_count": 192,
      "id": "ac398920-10fc-4ee2-b628-e401532a48b7",
      "metadata": {
        "id": "ac398920-10fc-4ee2-b628-e401532a48b7"
      },
      "outputs": [],
      "source": [
        "x = torch.ones(5, 3, dtype=torch.long)"
      ]
    },
    {
      "cell_type": "code",
      "execution_count": 193,
      "id": "26b391c0-bfa0-4c7a-9214-7339288bd040",
      "metadata": {
        "id": "26b391c0-bfa0-4c7a-9214-7339288bd040",
        "outputId": "95801870-a4c7-450c-db37-34ba8d393f8a",
        "colab": {
          "base_uri": "https://localhost:8080/"
        }
      },
      "outputs": [
        {
          "output_type": "stream",
          "name": "stdout",
          "text": [
            "tensor([[1, 1, 1],\n",
            "        [1, 1, 1],\n",
            "        [1, 1, 1],\n",
            "        [1, 1, 1],\n",
            "        [1, 1, 1]])\n"
          ]
        }
      ],
      "source": [
        "print(x)"
      ]
    },
    {
      "cell_type": "code",
      "execution_count": 194,
      "id": "8d872b28-ce04-430f-bb4f-19e74075178c",
      "metadata": {
        "id": "8d872b28-ce04-430f-bb4f-19e74075178c"
      },
      "outputs": [],
      "source": [
        "# 2. from a list"
      ]
    },
    {
      "cell_type": "code",
      "execution_count": 195,
      "id": "666f7b08-250a-4f4c-81cb-22be29ccbdf6",
      "metadata": {
        "id": "666f7b08-250a-4f4c-81cb-22be29ccbdf6"
      },
      "outputs": [],
      "source": [
        "data = [[1, 2], [3, 4]]"
      ]
    },
    {
      "cell_type": "code",
      "execution_count": 196,
      "id": "102bb7b1-413c-4041-95f0-cb1f3f30c8d1",
      "metadata": {
        "id": "102bb7b1-413c-4041-95f0-cb1f3f30c8d1"
      },
      "outputs": [],
      "source": [
        "x_data = torch.tensor(data)"
      ]
    },
    {
      "cell_type": "code",
      "execution_count": 197,
      "id": "f320beaa-254f-4416-b24e-510b7e2fa004",
      "metadata": {
        "id": "f320beaa-254f-4416-b24e-510b7e2fa004",
        "outputId": "8fe54079-409e-4cf8-dbeb-191c9d27b792",
        "colab": {
          "base_uri": "https://localhost:8080/"
        }
      },
      "outputs": [
        {
          "output_type": "stream",
          "name": "stdout",
          "text": [
            "tensor([[1, 2],\n",
            "        [3, 4]])\n"
          ]
        }
      ],
      "source": [
        "print(x_data)"
      ]
    },
    {
      "cell_type": "code",
      "execution_count": 198,
      "id": "0933232c-0a6f-405d-bb22-39a159202eb5",
      "metadata": {
        "id": "0933232c-0a6f-405d-bb22-39a159202eb5"
      },
      "outputs": [],
      "source": [
        "# 3. from a numpy array"
      ]
    },
    {
      "cell_type": "code",
      "execution_count": 199,
      "id": "aa3d7b78-4ea2-420d-a701-10630e540955",
      "metadata": {
        "id": "aa3d7b78-4ea2-420d-a701-10630e540955"
      },
      "outputs": [],
      "source": [
        "np_array = np.array(data)"
      ]
    },
    {
      "cell_type": "code",
      "execution_count": 200,
      "id": "65c5625c-3205-4f5f-bf6e-63e4975ea575",
      "metadata": {
        "id": "65c5625c-3205-4f5f-bf6e-63e4975ea575",
        "outputId": "0342dcc6-d654-4065-de0f-f773d17ccbf5",
        "colab": {
          "base_uri": "https://localhost:8080/"
        }
      },
      "outputs": [
        {
          "output_type": "execute_result",
          "data": {
            "text/plain": [
              "array([[1, 2],\n",
              "       [3, 4]])"
            ]
          },
          "metadata": {},
          "execution_count": 200
        }
      ],
      "source": [
        "np_array"
      ]
    },
    {
      "cell_type": "code",
      "execution_count": 201,
      "id": "a047d622-3ae9-4605-98f0-61619589c8dd",
      "metadata": {
        "id": "a047d622-3ae9-4605-98f0-61619589c8dd"
      },
      "outputs": [],
      "source": [
        "x_np = torch.from_numpy(np_array)"
      ]
    },
    {
      "cell_type": "code",
      "execution_count": 202,
      "id": "395576a4-8cef-4a59-acd6-110cc649e94d",
      "metadata": {
        "id": "395576a4-8cef-4a59-acd6-110cc649e94d",
        "outputId": "b929cec8-e8f9-4027-b1df-fa88bcef2f4f",
        "colab": {
          "base_uri": "https://localhost:8080/"
        }
      },
      "outputs": [
        {
          "output_type": "stream",
          "name": "stdout",
          "text": [
            "tensor([[1, 2],\n",
            "        [3, 4]])\n"
          ]
        }
      ],
      "source": [
        "print(x_np)"
      ]
    },
    {
      "cell_type": "code",
      "execution_count": 203,
      "id": "e1a01108-f954-4705-b500-e18355897ead",
      "metadata": {
        "id": "e1a01108-f954-4705-b500-e18355897ead"
      },
      "outputs": [],
      "source": [
        "# 4. from another tensor\n",
        "# The new tensor retains the properties (shape, datatype) of the argument tensor, unless explicitly overridden."
      ]
    },
    {
      "cell_type": "code",
      "execution_count": 204,
      "id": "603ee583-f933-430b-bbd7-27bcf3710f55",
      "metadata": {
        "id": "603ee583-f933-430b-bbd7-27bcf3710f55"
      },
      "outputs": [],
      "source": [
        "x_ones = torch.ones_like(x_data) # retains the properties of x_data"
      ]
    },
    {
      "cell_type": "code",
      "execution_count": 205,
      "id": "6ae52912-1d1f-4d5f-b719-745706f6c9da",
      "metadata": {
        "id": "6ae52912-1d1f-4d5f-b719-745706f6c9da",
        "outputId": "449cff6b-3602-46ac-889b-cccc3fbf4b79",
        "colab": {
          "base_uri": "https://localhost:8080/"
        }
      },
      "outputs": [
        {
          "output_type": "stream",
          "name": "stdout",
          "text": [
            "tensor([[1, 1],\n",
            "        [1, 1]])\n"
          ]
        }
      ],
      "source": [
        "print(x_ones)"
      ]
    },
    {
      "cell_type": "code",
      "execution_count": 206,
      "id": "f5e9fc3f-f755-4020-a04c-245fa5f7977e",
      "metadata": {
        "id": "f5e9fc3f-f755-4020-a04c-245fa5f7977e"
      },
      "outputs": [],
      "source": [
        "x_rand = torch.rand_like(x_data, dtype=torch.float) # overrides the datatype of x_data"
      ]
    },
    {
      "cell_type": "code",
      "execution_count": 207,
      "id": "eeb3c772-e13e-4baf-93f7-b33935dbb96d",
      "metadata": {
        "id": "eeb3c772-e13e-4baf-93f7-b33935dbb96d",
        "outputId": "214cb9c0-4153-491d-e311-09cf9a9bb6ac",
        "colab": {
          "base_uri": "https://localhost:8080/"
        }
      },
      "outputs": [
        {
          "output_type": "stream",
          "name": "stdout",
          "text": [
            "tensor([[0.1106, 0.7542],\n",
            "        [0.6530, 0.2495]])\n"
          ]
        }
      ],
      "source": [
        "print(x_rand)"
      ]
    },
    {
      "cell_type": "markdown",
      "id": "3b7892e5-5e9d-4512-ae02-f154f2ae629f",
      "metadata": {
        "id": "3b7892e5-5e9d-4512-ae02-f154f2ae629f"
      },
      "source": [
        "There are three attributes of tensor: **shape**, **datatype**, and the **device** on which they are stored. By default, tensors are created on the CPU. We need to explicitly move tensors to the GPU using .to method (after checking for GPU availability). Keep in mind that copying large tensors across devices can be expensive in terms of time and memory!"
      ]
    },
    {
      "cell_type": "code",
      "execution_count": 208,
      "id": "9bbcefa4-1a12-47c8-b927-1ba4a1073c62",
      "metadata": {
        "id": "9bbcefa4-1a12-47c8-b927-1ba4a1073c62",
        "outputId": "274c7754-2e7c-4672-8971-166832f3aa00",
        "colab": {
          "base_uri": "https://localhost:8080/"
        }
      },
      "outputs": [
        {
          "output_type": "stream",
          "name": "stdout",
          "text": [
            "Shape of tensor: torch.Size([2, 2])\n",
            "Datatype of tensor: torch.float32\n",
            "Device tensor is stored on: cpu\n"
          ]
        }
      ],
      "source": [
        "print(f\"Shape of tensor: {x_rand.shape}\")\n",
        "print(f\"Datatype of tensor: {x_rand.dtype}\")\n",
        "print(f\"Device tensor is stored on: {x_rand.device}\")"
      ]
    },
    {
      "cell_type": "code",
      "source": [
        "#Check what device is available\n",
        "torch.cuda.is_available()"
      ],
      "metadata": {
        "id": "QTTpAbCLWOYb",
        "colab": {
          "base_uri": "https://localhost:8080/"
        },
        "outputId": "961c38fc-fbef-4c1c-f43b-93d525db91d5"
      },
      "id": "QTTpAbCLWOYb",
      "execution_count": 209,
      "outputs": [
        {
          "output_type": "execute_result",
          "data": {
            "text/plain": [
              "True"
            ]
          },
          "metadata": {},
          "execution_count": 209
        }
      ]
    },
    {
      "cell_type": "markdown",
      "source": [
        "**Switch from CPU to GPU:**\n",
        "\n",
        "> In the top left, click on *runtime*, then click on *change runtime type*. Then click on *change hardware accelerator* and choose `GPU`. Finally, click on save."
      ],
      "metadata": {
        "id": "-LnvQbI9XAJW"
      },
      "id": "-LnvQbI9XAJW"
    },
    {
      "cell_type": "code",
      "source": [
        "torch.cuda.is_available()"
      ],
      "metadata": {
        "id": "sUIeNnQTW7oa",
        "colab": {
          "base_uri": "https://localhost:8080/"
        },
        "outputId": "4a1b0b00-d6f2-4a79-ffd8-17e41eb5d61b"
      },
      "id": "sUIeNnQTW7oa",
      "execution_count": 210,
      "outputs": [
        {
          "output_type": "execute_result",
          "data": {
            "text/plain": [
              "True"
            ]
          },
          "metadata": {},
          "execution_count": 210
        }
      ]
    },
    {
      "cell_type": "code",
      "execution_count": 211,
      "id": "4cf5a3ea-7c61-4165-a271-d338f5335e8c",
      "metadata": {
        "id": "4cf5a3ea-7c61-4165-a271-d338f5335e8c"
      },
      "outputs": [],
      "source": [
        "device = torch.device('cuda' if torch.cuda.is_available() else 'cpu') "
      ]
    },
    {
      "cell_type": "code",
      "execution_count": 212,
      "id": "89d62b52-8566-42bb-bba7-32f61c8ed6a2",
      "metadata": {
        "id": "89d62b52-8566-42bb-bba7-32f61c8ed6a2",
        "outputId": "2b71d21b-1694-42f9-dfa4-c1f2b41943b1",
        "colab": {
          "base_uri": "https://localhost:8080/"
        }
      },
      "outputs": [
        {
          "output_type": "execute_result",
          "data": {
            "text/plain": [
              "device(type='cuda')"
            ]
          },
          "metadata": {},
          "execution_count": 212
        }
      ],
      "source": [
        "device"
      ]
    },
    {
      "cell_type": "code",
      "execution_count": 213,
      "id": "57763464-e2ea-4203-bbf6-724340e31b81",
      "metadata": {
        "id": "57763464-e2ea-4203-bbf6-724340e31b81"
      },
      "outputs": [],
      "source": [
        "x_rand = torch.rand_like(x_data, dtype=torch.float, device=device)"
      ]
    },
    {
      "cell_type": "code",
      "execution_count": 214,
      "id": "c27030bc-e918-4d57-a457-9515952f56b3",
      "metadata": {
        "id": "c27030bc-e918-4d57-a457-9515952f56b3",
        "outputId": "90a40ca4-6383-4cff-b878-d6c8d8aebf34",
        "colab": {
          "base_uri": "https://localhost:8080/"
        }
      },
      "outputs": [
        {
          "output_type": "stream",
          "name": "stdout",
          "text": [
            "Device tensor is stored on: cuda:0\n"
          ]
        }
      ],
      "source": [
        "print(f\"Device tensor is stored on: {x_rand.device}\")"
      ]
    },
    {
      "cell_type": "code",
      "execution_count": 215,
      "id": "7d275db9-fa41-4488-8615-199c5067d4b6",
      "metadata": {
        "id": "7d275db9-fa41-4488-8615-199c5067d4b6",
        "outputId": "a86683f4-5ec2-479b-a2d5-b815b8253626",
        "colab": {
          "base_uri": "https://localhost:8080/"
        }
      },
      "outputs": [
        {
          "output_type": "stream",
          "name": "stdout",
          "text": [
            "Device tensor is stored on: cpu\n"
          ]
        }
      ],
      "source": [
        "print(f\"Device tensor is stored on: {x_ones.device}\")"
      ]
    },
    {
      "cell_type": "code",
      "execution_count": 216,
      "id": "e2d10eb6-413e-4080-bbdb-d5f2812f85a6",
      "metadata": {
        "id": "e2d10eb6-413e-4080-bbdb-d5f2812f85a6"
      },
      "outputs": [],
      "source": [
        "x_ones = x_ones.to(device)"
      ]
    },
    {
      "cell_type": "code",
      "execution_count": 217,
      "id": "e6364b24-1e2f-4aec-8f25-fcd3a3d151b4",
      "metadata": {
        "id": "e6364b24-1e2f-4aec-8f25-fcd3a3d151b4",
        "outputId": "cd295dd7-193c-4b60-ffe8-10d1cdea3587",
        "colab": {
          "base_uri": "https://localhost:8080/"
        }
      },
      "outputs": [
        {
          "output_type": "stream",
          "name": "stdout",
          "text": [
            "Device tensor is stored on: cuda:0\n"
          ]
        }
      ],
      "source": [
        "print(f\"Device tensor is stored on: {x_ones.device}\")"
      ]
    },
    {
      "cell_type": "markdown",
      "id": "d6e3094d-0765-458f-8aa0-5a22bc795d5a",
      "metadata": {
        "id": "d6e3094d-0765-458f-8aa0-5a22bc795d5a"
      },
      "source": [
        "## 1.2 Operations on Tensors"
      ]
    },
    {
      "cell_type": "markdown",
      "id": "54fabf2c-55d4-484a-9241-cc94fc5a5b76",
      "metadata": {
        "id": "54fabf2c-55d4-484a-9241-cc94fc5a5b76"
      },
      "source": [
        "We already know how to initialize a tensor, then we can do some operations on tensors.\n",
        "\n",
        "A lot of basic operations are supported by tensors."
      ]
    },
    {
      "cell_type": "code",
      "execution_count": 218,
      "id": "da89f076-782d-43fa-bac2-2e6e2a484dc4",
      "metadata": {
        "id": "da89f076-782d-43fa-bac2-2e6e2a484dc4"
      },
      "outputs": [],
      "source": [
        "x= torch.rand(2, 3)"
      ]
    },
    {
      "cell_type": "code",
      "execution_count": 219,
      "id": "2260448c-02e7-4a32-8679-23cb53006273",
      "metadata": {
        "id": "2260448c-02e7-4a32-8679-23cb53006273",
        "outputId": "88ecf842-2e09-4709-f01c-7bcb543dc6fd",
        "colab": {
          "base_uri": "https://localhost:8080/"
        }
      },
      "outputs": [
        {
          "output_type": "stream",
          "name": "stdout",
          "text": [
            "tensor([[0.7791, 0.3513, 0.8330],\n",
            "        [0.7707, 0.9183, 0.0943]])\n"
          ]
        }
      ],
      "source": [
        "print(x)"
      ]
    },
    {
      "cell_type": "code",
      "execution_count": 220,
      "id": "00c6eff0-ba88-4ecf-9c6b-f71eb0316ba5",
      "metadata": {
        "id": "00c6eff0-ba88-4ecf-9c6b-f71eb0316ba5"
      },
      "outputs": [],
      "source": [
        "y = torch.rand(2, 3)"
      ]
    },
    {
      "cell_type": "code",
      "execution_count": 221,
      "id": "2eab845d-13e7-4765-a763-ae0dd7a070dd",
      "metadata": {
        "id": "2eab845d-13e7-4765-a763-ae0dd7a070dd",
        "outputId": "4f8abf11-d3af-42f2-9428-d4fbda02b1a7",
        "colab": {
          "base_uri": "https://localhost:8080/"
        }
      },
      "outputs": [
        {
          "output_type": "stream",
          "name": "stdout",
          "text": [
            "tensor([[0.2525, 0.8161, 0.4476],\n",
            "        [0.0064, 0.9133, 0.2155]])\n"
          ]
        }
      ],
      "source": [
        "print(y)"
      ]
    },
    {
      "cell_type": "code",
      "execution_count": 222,
      "id": "a6677e18-acf2-4482-b3f7-05542212160a",
      "metadata": {
        "id": "a6677e18-acf2-4482-b3f7-05542212160a",
        "outputId": "a73abba0-4f3d-4cde-ac7e-b84aca6e21d8",
        "colab": {
          "base_uri": "https://localhost:8080/"
        }
      },
      "outputs": [
        {
          "output_type": "stream",
          "name": "stdout",
          "text": [
            "tensor([[1.0316, 1.1674, 1.2806],\n",
            "        [0.7771, 1.8316, 0.3098]])\n"
          ]
        }
      ],
      "source": [
        "print(x + y)"
      ]
    },
    {
      "cell_type": "code",
      "execution_count": 223,
      "id": "86b00fb5-b945-4600-8670-581f7eed93cf",
      "metadata": {
        "id": "86b00fb5-b945-4600-8670-581f7eed93cf",
        "outputId": "d81b7093-daf1-4069-8f4c-f3e7555aca2f",
        "colab": {
          "base_uri": "https://localhost:8080/"
        }
      },
      "outputs": [
        {
          "output_type": "stream",
          "name": "stdout",
          "text": [
            "tensor([[1.0316, 1.1674, 1.2806],\n",
            "        [0.7771, 1.8316, 0.3098]])\n"
          ]
        }
      ],
      "source": [
        "print(torch.add(x, y))"
      ]
    },
    {
      "cell_type": "code",
      "execution_count": 224,
      "id": "9b1b30ab-735e-4649-ba28-21f1b99f54ba",
      "metadata": {
        "id": "9b1b30ab-735e-4649-ba28-21f1b99f54ba",
        "outputId": "af7306a5-74bd-4cc6-dfb8-3b05869a7358",
        "colab": {
          "base_uri": "https://localhost:8080/"
        }
      },
      "outputs": [
        {
          "output_type": "execute_result",
          "data": {
            "text/plain": [
              "tensor([[1.0316, 1.1674, 1.2806],\n",
              "        [0.7771, 1.8316, 0.3098]])"
            ]
          },
          "metadata": {},
          "execution_count": 224
        }
      ],
      "source": [
        "z1 = x + y\n",
        "z2 = torch.add(x, y)\n",
        "z3 = torch.rand_like(x)\n",
        "torch.add(x, y, out=z3) #overwriting the result on z3"
      ]
    },
    {
      "cell_type": "code",
      "execution_count": 225,
      "id": "898c0e7e-6ae2-4d85-bb91-370b8fe58899",
      "metadata": {
        "id": "898c0e7e-6ae2-4d85-bb91-370b8fe58899",
        "outputId": "739fe8e0-3025-4c0d-cb94-9de919986077",
        "colab": {
          "base_uri": "https://localhost:8080/"
        }
      },
      "outputs": [
        {
          "output_type": "execute_result",
          "data": {
            "text/plain": [
              "tensor([[1.0316, 1.1674, 1.2806],\n",
              "        [0.7771, 1.8316, 0.3098]])"
            ]
          },
          "metadata": {},
          "execution_count": 225
        }
      ],
      "source": [
        "z1"
      ]
    },
    {
      "cell_type": "code",
      "execution_count": 226,
      "id": "0e8e18f5-ab39-4111-afee-c328226c55c4",
      "metadata": {
        "id": "0e8e18f5-ab39-4111-afee-c328226c55c4",
        "outputId": "cc00b90d-8e5b-4dc4-b110-2b7680f4d811",
        "colab": {
          "base_uri": "https://localhost:8080/"
        }
      },
      "outputs": [
        {
          "output_type": "execute_result",
          "data": {
            "text/plain": [
              "tensor([[1.0316, 1.1674, 1.2806],\n",
              "        [0.7771, 1.8316, 0.3098]])"
            ]
          },
          "metadata": {},
          "execution_count": 226
        }
      ],
      "source": [
        "z2"
      ]
    },
    {
      "cell_type": "code",
      "execution_count": 227,
      "id": "9e4e5fdd-553f-48c2-ad49-b758210550dd",
      "metadata": {
        "id": "9e4e5fdd-553f-48c2-ad49-b758210550dd",
        "outputId": "d465658b-652c-4690-fafe-dc512162cbff",
        "colab": {
          "base_uri": "https://localhost:8080/"
        }
      },
      "outputs": [
        {
          "output_type": "execute_result",
          "data": {
            "text/plain": [
              "tensor([[1.0316, 1.1674, 1.2806],\n",
              "        [0.7771, 1.8316, 0.3098]])"
            ]
          },
          "metadata": {},
          "execution_count": 227
        }
      ],
      "source": [
        "z3"
      ]
    },
    {
      "cell_type": "code",
      "execution_count": 228,
      "id": "da0a0e1c-37ac-4353-9384-c390d52b8934",
      "metadata": {
        "id": "da0a0e1c-37ac-4353-9384-c390d52b8934",
        "outputId": "c867676e-818a-4a79-ec6d-84dc812bf8ae",
        "colab": {
          "base_uri": "https://localhost:8080/"
        }
      },
      "outputs": [
        {
          "output_type": "execute_result",
          "data": {
            "text/plain": [
              "tensor([[0.1967, 0.2867, 0.3728],\n",
              "        [0.0049, 0.8386, 0.0203]])"
            ]
          },
          "metadata": {},
          "execution_count": 228
        }
      ],
      "source": [
        "z1 = x * y\n",
        "z2 = x.mul(y)\n",
        "\n",
        "z3 = torch.rand_like(x)\n",
        "torch.mul(x, y, out=z3)"
      ]
    },
    {
      "cell_type": "code",
      "execution_count": 229,
      "id": "5793b6e3-a1ae-42e6-906c-277bb3b76324",
      "metadata": {
        "id": "5793b6e3-a1ae-42e6-906c-277bb3b76324",
        "outputId": "84b7a490-a5b1-4754-c18d-933e2ed71009",
        "colab": {
          "base_uri": "https://localhost:8080/"
        }
      },
      "outputs": [
        {
          "output_type": "execute_result",
          "data": {
            "text/plain": [
              "tensor([[0.1967, 0.2867, 0.3728],\n",
              "        [0.0049, 0.8386, 0.0203]])"
            ]
          },
          "metadata": {},
          "execution_count": 229
        }
      ],
      "source": [
        "z1"
      ]
    },
    {
      "cell_type": "code",
      "execution_count": 230,
      "id": "3f659f82-40bb-44f9-93c2-f9dcb190a77b",
      "metadata": {
        "id": "3f659f82-40bb-44f9-93c2-f9dcb190a77b",
        "outputId": "b7e3ab1c-5474-4a03-ac19-059b66e7e7d5",
        "colab": {
          "base_uri": "https://localhost:8080/"
        }
      },
      "outputs": [
        {
          "output_type": "execute_result",
          "data": {
            "text/plain": [
              "tensor([[0.1967, 0.2867, 0.3728],\n",
              "        [0.0049, 0.8386, 0.0203]])"
            ]
          },
          "metadata": {},
          "execution_count": 230
        }
      ],
      "source": [
        "z2"
      ]
    },
    {
      "cell_type": "code",
      "execution_count": 231,
      "id": "693fbf77-6565-44f6-989d-07116c0973e0",
      "metadata": {
        "id": "693fbf77-6565-44f6-989d-07116c0973e0",
        "outputId": "038c958c-9b94-42ce-b9c8-aa74df0846e9",
        "colab": {
          "base_uri": "https://localhost:8080/"
        }
      },
      "outputs": [
        {
          "output_type": "execute_result",
          "data": {
            "text/plain": [
              "tensor([[0.1967, 0.2867, 0.3728],\n",
              "        [0.0049, 0.8386, 0.0203]])"
            ]
          },
          "metadata": {},
          "execution_count": 231
        }
      ],
      "source": [
        "z3"
      ]
    },
    {
      "cell_type": "code",
      "execution_count": 232,
      "id": "bda74208-3f16-4fe3-be28-3c495c91908d",
      "metadata": {
        "id": "bda74208-3f16-4fe3-be28-3c495c91908d"
      },
      "outputs": [],
      "source": [
        "# resize or reshape by torch.view"
      ]
    },
    {
      "cell_type": "code",
      "source": [
        "x"
      ],
      "metadata": {
        "colab": {
          "base_uri": "https://localhost:8080/"
        },
        "id": "VKmGfayNcVDf",
        "outputId": "fdcf2980-f4d9-4a7f-99dd-5e99d33f7515"
      },
      "id": "VKmGfayNcVDf",
      "execution_count": 233,
      "outputs": [
        {
          "output_type": "execute_result",
          "data": {
            "text/plain": [
              "tensor([[0.7791, 0.3513, 0.8330],\n",
              "        [0.7707, 0.9183, 0.0943]])"
            ]
          },
          "metadata": {},
          "execution_count": 233
        }
      ]
    },
    {
      "cell_type": "code",
      "execution_count": 234,
      "id": "7db8dd5b-2f43-4b16-bc7e-b344791f66c6",
      "metadata": {
        "id": "7db8dd5b-2f43-4b16-bc7e-b344791f66c6"
      },
      "outputs": [],
      "source": [
        "x1 = x.view(6)"
      ]
    },
    {
      "cell_type": "code",
      "execution_count": 235,
      "id": "131b1b4c-278f-4bc8-a786-879a51a19a0d",
      "metadata": {
        "id": "131b1b4c-278f-4bc8-a786-879a51a19a0d",
        "outputId": "08db795e-9095-4d32-f46b-1bdb9ae53d17",
        "colab": {
          "base_uri": "https://localhost:8080/"
        }
      },
      "outputs": [
        {
          "output_type": "execute_result",
          "data": {
            "text/plain": [
              "tensor([0.7791, 0.3513, 0.8330, 0.7707, 0.9183, 0.0943])"
            ]
          },
          "metadata": {},
          "execution_count": 235
        }
      ],
      "source": [
        "x1"
      ]
    },
    {
      "cell_type": "code",
      "execution_count": 236,
      "id": "fb5e21cf-746d-4785-a45d-c3d464d96037",
      "metadata": {
        "id": "fb5e21cf-746d-4785-a45d-c3d464d96037"
      },
      "outputs": [],
      "source": [
        "x1 = x.view(3, 2)"
      ]
    },
    {
      "cell_type": "code",
      "execution_count": 237,
      "id": "54e634d6-229e-4792-8796-a0ba5c22c7f6",
      "metadata": {
        "id": "54e634d6-229e-4792-8796-a0ba5c22c7f6",
        "outputId": "9859b385-67e5-4041-fd6b-f66356f5f200",
        "colab": {
          "base_uri": "https://localhost:8080/"
        }
      },
      "outputs": [
        {
          "output_type": "execute_result",
          "data": {
            "text/plain": [
              "tensor([[0.7791, 0.3513],\n",
              "        [0.8330, 0.7707],\n",
              "        [0.9183, 0.0943]])"
            ]
          },
          "metadata": {},
          "execution_count": 237
        }
      ],
      "source": [
        "x1"
      ]
    },
    {
      "cell_type": "code",
      "execution_count": 238,
      "id": "81ce7ae0-bb97-4f18-ab8a-4cc3f8f0db01",
      "metadata": {
        "id": "81ce7ae0-bb97-4f18-ab8a-4cc3f8f0db01"
      },
      "outputs": [],
      "source": [
        "x2 = x.view(2, -1) #-1 infers a new dimension based to match original dimension."
      ]
    },
    {
      "cell_type": "code",
      "execution_count": 239,
      "id": "ca43b1de-99da-4feb-b95b-69ec09ec986f",
      "metadata": {
        "id": "ca43b1de-99da-4feb-b95b-69ec09ec986f",
        "outputId": "4d4b393f-e177-45ae-a2e0-6264c58c4c25",
        "colab": {
          "base_uri": "https://localhost:8080/"
        }
      },
      "outputs": [
        {
          "output_type": "execute_result",
          "data": {
            "text/plain": [
              "tensor([[0.7791, 0.3513, 0.8330],\n",
              "        [0.7707, 0.9183, 0.0943]])"
            ]
          },
          "metadata": {},
          "execution_count": 239
        }
      ],
      "source": [
        "x2"
      ]
    },
    {
      "cell_type": "markdown",
      "id": "2a8132e5-c2e2-40f5-b800-a2e3802bc045",
      "metadata": {
        "id": "2a8132e5-c2e2-40f5-b800-a2e3802bc045"
      },
      "source": [
        "There are over 100 tensor operations, including arithmetic, linear algebra, matrix manipulation (transposing, indexing, slicing), sampling and more are comprehensively described [here](https://pytorch.org/docs/stable/torch.html)"
      ]
    },
    {
      "cell_type": "markdown",
      "id": "e7e96873-5908-4975-a6fe-c97cd0114306",
      "metadata": {
        "id": "e7e96873-5908-4975-a6fe-c97cd0114306"
      },
      "source": [
        "## 1.3 Bridge with NumPy"
      ]
    },
    {
      "cell_type": "code",
      "execution_count": 240,
      "id": "133312a2-d068-4932-99f0-8c69f577cac6",
      "metadata": {
        "id": "133312a2-d068-4932-99f0-8c69f577cac6"
      },
      "outputs": [],
      "source": [
        "# Numpy to Tensor"
      ]
    },
    {
      "cell_type": "code",
      "execution_count": 241,
      "id": "45696a16-edd7-4fae-b3ba-df2785b0aafe",
      "metadata": {
        "id": "45696a16-edd7-4fae-b3ba-df2785b0aafe"
      },
      "outputs": [],
      "source": [
        "n1 = np.ones(5)\n",
        "t1 = torch.from_numpy(n1)"
      ]
    },
    {
      "cell_type": "code",
      "execution_count": 242,
      "id": "e20c9d98-b2b3-42bb-a531-06c75dedea4a",
      "metadata": {
        "id": "e20c9d98-b2b3-42bb-a531-06c75dedea4a",
        "outputId": "d85f7bc7-4273-4951-bcce-7db62bb311a2",
        "colab": {
          "base_uri": "https://localhost:8080/"
        }
      },
      "outputs": [
        {
          "output_type": "execute_result",
          "data": {
            "text/plain": [
              "array([1., 1., 1., 1., 1.])"
            ]
          },
          "metadata": {},
          "execution_count": 242
        }
      ],
      "source": [
        "n1"
      ]
    },
    {
      "cell_type": "code",
      "execution_count": 243,
      "id": "ad3afcbc-7b0c-4635-b0e7-83466daeda4b",
      "metadata": {
        "id": "ad3afcbc-7b0c-4635-b0e7-83466daeda4b",
        "outputId": "2904f4f3-d95a-44d3-a808-6280ce2b32b4",
        "colab": {
          "base_uri": "https://localhost:8080/"
        }
      },
      "outputs": [
        {
          "output_type": "execute_result",
          "data": {
            "text/plain": [
              "tensor([1., 1., 1., 1., 1.], dtype=torch.float64)"
            ]
          },
          "metadata": {},
          "execution_count": 243
        }
      ],
      "source": [
        "t1"
      ]
    },
    {
      "cell_type": "code",
      "execution_count": 244,
      "id": "ae0da99e-e7c2-4461-b3b9-887a64639a96",
      "metadata": {
        "id": "ae0da99e-e7c2-4461-b3b9-887a64639a96"
      },
      "outputs": [],
      "source": [
        "# Tensor to Numpy"
      ]
    },
    {
      "cell_type": "code",
      "execution_count": 245,
      "id": "53f48435-31cc-491e-b773-9bd701d9833a",
      "metadata": {
        "id": "53f48435-31cc-491e-b773-9bd701d9833a"
      },
      "outputs": [],
      "source": [
        "t2 = torch.ones(5)\n",
        "n2 = t2.numpy()"
      ]
    },
    {
      "cell_type": "code",
      "execution_count": 246,
      "id": "28983006-ff55-472a-8495-8d6167a46701",
      "metadata": {
        "id": "28983006-ff55-472a-8495-8d6167a46701",
        "outputId": "94dc664c-8e41-4897-9a0e-28267c451a58",
        "colab": {
          "base_uri": "https://localhost:8080/"
        }
      },
      "outputs": [
        {
          "output_type": "execute_result",
          "data": {
            "text/plain": [
              "tensor([1., 1., 1., 1., 1.])"
            ]
          },
          "metadata": {},
          "execution_count": 246
        }
      ],
      "source": [
        "t2"
      ]
    },
    {
      "cell_type": "code",
      "execution_count": 247,
      "id": "b06e689d-9ad3-484c-9643-abf87ee05a99",
      "metadata": {
        "id": "b06e689d-9ad3-484c-9643-abf87ee05a99",
        "outputId": "fc469890-9d62-4187-fa78-6c31f37e8e20",
        "colab": {
          "base_uri": "https://localhost:8080/"
        }
      },
      "outputs": [
        {
          "output_type": "execute_result",
          "data": {
            "text/plain": [
              "array([1., 1., 1., 1., 1.], dtype=float32)"
            ]
          },
          "metadata": {},
          "execution_count": 247
        }
      ],
      "source": [
        "n2"
      ]
    },
    {
      "cell_type": "markdown",
      "id": "9b043262-4b9b-4fd0-9f03-6500a4d57df9",
      "metadata": {
        "id": "9b043262-4b9b-4fd0-9f03-6500a4d57df9"
      },
      "source": [
        "Tensors on the CPU and NumPy arrays can share their **underlying memory locations**, and changing one will change the other."
      ]
    },
    {
      "cell_type": "code",
      "execution_count": 248,
      "id": "744196d4-a662-4ffe-bbe6-81af14690907",
      "metadata": {
        "id": "744196d4-a662-4ffe-bbe6-81af14690907",
        "outputId": "c1dbc199-dfa6-4c5d-86e5-04e3944ea21f",
        "colab": {
          "base_uri": "https://localhost:8080/"
        }
      },
      "outputs": [
        {
          "output_type": "stream",
          "name": "stdout",
          "text": [
            "t1: tensor([2., 2., 2., 2., 2.], dtype=torch.float64)\n",
            "n1: [2. 2. 2. 2. 2.]\n"
          ]
        }
      ],
      "source": [
        "t1.add_(1)\n",
        "print(f\"t1: {t1}\")\n",
        "print(f\"n1: {n1}\")"
      ]
    },
    {
      "cell_type": "code",
      "execution_count": 249,
      "id": "2af5a863-fcd2-4aa7-93db-b339f621d904",
      "metadata": {
        "id": "2af5a863-fcd2-4aa7-93db-b339f621d904",
        "outputId": "80d18fb5-7c0e-4d99-cf0c-f66c39bc92b5",
        "colab": {
          "base_uri": "https://localhost:8080/"
        }
      },
      "outputs": [
        {
          "output_type": "stream",
          "name": "stdout",
          "text": [
            "t2: tensor([4., 4., 4., 4., 4.])\n",
            "n2: [4. 4. 4. 4. 4.]\n"
          ]
        }
      ],
      "source": [
        "np.add(n2, 3, out=n2)\n",
        "print(f\"t2: {t2}\")\n",
        "print(f\"n2: {n2}\")"
      ]
    },
    {
      "cell_type": "markdown",
      "id": "9bf43eea-16a6-4ad3-998c-894c67dea572",
      "metadata": {
        "id": "9bf43eea-16a6-4ad3-998c-894c67dea572"
      },
      "source": [
        "# 2. Autograd"
      ]
    },
    {
      "cell_type": "markdown",
      "id": "ecce1717-0803-4ea4-a630-1bc6b71cce11",
      "metadata": {
        "id": "ecce1717-0803-4ea4-a630-1bc6b71cce11"
      },
      "source": [
        "torch.autograd is PyTorch’s automatic **differentiation** engine that powers **neural network training**. \n",
        "\n",
        "The autograd package provides automatic differentiation for all operations on Tensors. It is a define-by-run framework, which means that your **backprop** is defined by how your code is run, and that every single iteration can be different.\n",
        "\n",
        "The gradient is like derivative but in vector form. It is important to calculate the loss function in neural networks. **But it is impractical** to calculate gradients of such large composite functions by solving mathematical equations because of the high number of dimensions. Luckily, PyTorch can find this gradient numerically in a matter of seconds!\n",
        "\n",
        "gradient is the **core** of backpropagation.\n"
      ]
    },
    {
      "cell_type": "code",
      "execution_count": 250,
      "id": "fb33d0ae-d795-4ed2-bfbe-7cad2d2c80af",
      "metadata": {
        "id": "fb33d0ae-d795-4ed2-bfbe-7cad2d2c80af",
        "colab": {
          "base_uri": "https://localhost:8080/"
        },
        "outputId": "a6929946-2e4e-4a36-a1de-9fc306fcb05a"
      },
      "outputs": [
        {
          "output_type": "stream",
          "name": "stdout",
          "text": [
            "None\n"
          ]
        }
      ],
      "source": [
        "x = torch.tensor([1., 2.], requires_grad = True) # signals to autograd that every operation on the expression should be tracked.\n",
        "print(x.grad)"
      ]
    },
    {
      "cell_type": "code",
      "execution_count": 251,
      "id": "83810765-2c0e-4914-b048-bc9c94f8dfef",
      "metadata": {
        "id": "83810765-2c0e-4914-b048-bc9c94f8dfef"
      },
      "outputs": [],
      "source": [
        "y = x ** 2 #assume to be error. gradient = dy/dx = 2x = [2,4]. with autograd, this gradient is automatically tracked. "
      ]
    },
    {
      "cell_type": "code",
      "execution_count": 252,
      "id": "e94c66dc-eb71-4a98-8d5d-805e84949a13",
      "metadata": {
        "id": "e94c66dc-eb71-4a98-8d5d-805e84949a13"
      },
      "outputs": [],
      "source": [
        "y.sum().backward() "
      ]
    },
    {
      "cell_type": "markdown",
      "id": "77e19e5a-85f8-4171-952d-88dc98453b30",
      "metadata": {
        "id": "77e19e5a-85f8-4171-952d-88dc98453b30"
      },
      "source": [
        "We often apply backward on loss, and the loss the sum of several parts, that why we call sum() here."
      ]
    },
    {
      "cell_type": "code",
      "execution_count": 253,
      "id": "4450a27a-aa57-4b71-bb62-83200b60602c",
      "metadata": {
        "id": "4450a27a-aa57-4b71-bb62-83200b60602c",
        "outputId": "a70c18c7-9190-4ed6-99ff-9813619c8496",
        "colab": {
          "base_uri": "https://localhost:8080/"
        }
      },
      "outputs": [
        {
          "output_type": "stream",
          "name": "stdout",
          "text": [
            "tensor([2., 4.])\n"
          ]
        }
      ],
      "source": [
        "print(x.grad) #gradients are now deposited in x.grad"
      ]
    },
    {
      "cell_type": "code",
      "execution_count": 254,
      "id": "fde170d2-28d9-4aaf-8c7a-e1ea3033ab7f",
      "metadata": {
        "id": "fde170d2-28d9-4aaf-8c7a-e1ea3033ab7f"
      },
      "outputs": [],
      "source": [
        "with torch.no_grad():\n",
        "    z = x ** 2"
      ]
    },
    {
      "cell_type": "code",
      "execution_count": 255,
      "id": "107cef9d-23ac-4e9c-97eb-197940d0df3c",
      "metadata": {
        "id": "107cef9d-23ac-4e9c-97eb-197940d0df3c",
        "outputId": "4c8f2d34-4433-4f32-f5f4-cc80dd20a09f",
        "colab": {
          "base_uri": "https://localhost:8080/"
        }
      },
      "outputs": [
        {
          "output_type": "execute_result",
          "data": {
            "text/plain": [
              "tensor([1., 4.])"
            ]
          },
          "metadata": {},
          "execution_count": 255
        }
      ],
      "source": [
        "z"
      ]
    },
    {
      "cell_type": "markdown",
      "id": "14b1447d-4fa2-4cf7-9535-3f142b94b9e6",
      "metadata": {
        "id": "14b1447d-4fa2-4cf7-9535-3f142b94b9e6"
      },
      "source": [
        "We can see the difference between y and z here, if we specify torch.no_grad, we can't call backward which is very important for neural network training. So, if we want to know the performance of this model without updating its parameter, we will specify torch.no_grad."
      ]
    },
    {
      "cell_type": "markdown",
      "metadata": {
        "id": "699fa750-0b77-4071-a108-34715b3a6e27"
      },
      "source": [
        "# 3. A simple PyTorch Model example "
      ],
      "id": "699fa750-0b77-4071-a108-34715b3a6e27"
    },
    {
      "cell_type": "code",
      "execution_count": 256,
      "metadata": {
        "id": "7b3e9559-c634-4eed-91ad-edd5dfab2bce"
      },
      "outputs": [],
      "source": [
        "import math\n",
        "x = torch.unsqueeze(torch.linspace(-1, 1, 100), dim=1) #generate 100 equally spaced values between -1 and 1. unsqueeze - changes dimension\n",
        "y = x.pow(2) + 0.3*torch.rand(x.size()) "
      ],
      "id": "7b3e9559-c634-4eed-91ad-edd5dfab2bce"
    },
    {
      "cell_type": "code",
      "source": [
        "x.shape, y.shape"
      ],
      "metadata": {
        "colab": {
          "base_uri": "https://localhost:8080/"
        },
        "id": "TO72oOO9omO0",
        "outputId": "67cd3368-9ad7-4a56-e515-e57ab8cee289"
      },
      "execution_count": 257,
      "outputs": [
        {
          "output_type": "execute_result",
          "data": {
            "text/plain": [
              "(torch.Size([100, 1]), torch.Size([100, 1]))"
            ]
          },
          "metadata": {},
          "execution_count": 257
        }
      ],
      "id": "TO72oOO9omO0"
    },
    {
      "cell_type": "code",
      "execution_count": 258,
      "metadata": {
        "id": "4cecae7a-fdf0-4511-a1ee-10162c488b15",
        "outputId": "40e71034-689a-4cdf-fd59-39208260f8e2",
        "colab": {
          "base_uri": "https://localhost:8080/",
          "height": 265
        }
      },
      "outputs": [
        {
          "output_type": "display_data",
          "data": {
            "text/plain": [
              "<Figure size 432x288 with 1 Axes>"
            ],
            "image/png": "[encoded data removed]"
          },
          "metadata": {
            "needs_background": "light"
          }
        }
      ],
      "source": [
        "plt.scatter(x.data.numpy(), y.data.numpy())\n",
        "plt.show()"
      ],
      "id": "4cecae7a-fdf0-4511-a1ee-10162c488b15"
    },
    {
      "cell_type": "markdown",
      "metadata": {
        "id": "efac6d06-0700-451e-9abd-8040d340bc50"
      },
      "source": [
        "In PyTorch a nice way to build a network is by creating a new class for the network we wish to build. "
      ],
      "id": "efac6d06-0700-451e-9abd-8040d340bc50"
    },
    {
      "cell_type": "code",
      "execution_count": 259,
      "metadata": {
        "id": "bd3bf4e4-afcf-4be8-9aec-c70e8c3029d0"
      },
      "outputs": [],
      "source": [
        "class Net(torch.nn.Module):  \n",
        "    def __init__(self, n_feature, n_hidden, n_output):\n",
        "        super(Net, self).__init__() \n",
        "        self.layer1 = torch.nn.Linear(n_feature, n_hidden)   \n",
        "        self.layer2 = torch.nn.Linear(n_hidden, n_output)\n",
        "\n",
        "    def forward(self, x):  \n",
        "        x = F.relu(self.layer1(x))      \n",
        "        x = self.layer2(x)            \n",
        "        return x"
      ],
      "id": "bd3bf4e4-afcf-4be8-9aec-c70e8c3029d0"
    },
    {
      "cell_type": "code",
      "execution_count": 260,
      "metadata": {
        "id": "b72127ac-cb4b-4791-9903-e892981aca8d"
      },
      "outputs": [],
      "source": [
        "net = Net(n_feature=1, n_hidden=10, n_output=1)"
      ],
      "id": "b72127ac-cb4b-4791-9903-e892981aca8d"
    },
    {
      "cell_type": "code",
      "execution_count": 261,
      "metadata": {
        "id": "aef3dd77-e1c1-4e54-ad08-341b6905c6a6"
      },
      "outputs": [],
      "source": [
        "optimizer = torch.optim.SGD(net.parameters(), lr=0.2) "
      ],
      "id": "aef3dd77-e1c1-4e54-ad08-341b6905c6a6"
    },
    {
      "cell_type": "code",
      "execution_count": 262,
      "metadata": {
        "id": "0a4e1a2b-a743-4aab-b69e-0a9ba9885511"
      },
      "outputs": [],
      "source": [
        "loss_func = torch.nn.MSELoss() "
      ],
      "id": "0a4e1a2b-a743-4aab-b69e-0a9ba9885511"
    },
    {
      "cell_type": "code",
      "execution_count": 263,
      "metadata": {
        "id": "05b5c731-1e13-44ae-86be-2c72a052c9d2",
        "outputId": "531a534e-b6d2-43bc-d610-c819fc317027",
        "colab": {
          "base_uri": "https://localhost:8080/"
        }
      },
      "outputs": [
        {
          "output_type": "stream",
          "name": "stdout",
          "text": [
            "Loss=0.1942 \n",
            "Loss=0.1042 \n",
            "Loss=0.0896 \n",
            "Loss=0.0768 \n",
            "Loss=0.0647 \n",
            "Loss=0.0534 \n",
            "Loss=0.0432 \n",
            "Loss=0.0343 \n",
            "Loss=0.0271 \n",
            "Loss=0.0215 \n"
          ]
        }
      ],
      "source": [
        "for i in range(100):\n",
        "    prediction = net(x)    \n",
        "    loss = loss_func(prediction, y)    \n",
        "\n",
        "    optimizer.zero_grad()   # set the stored backprop gradients to 0\n",
        "    loss.backward()          \n",
        "    optimizer.step()    # Performs a single optimization step (parameter update).\n",
        "    if i % 10 == 0:\n",
        "        print(\"Loss=%.4f \" % loss.item())"
      ],
      "id": "05b5c731-1e13-44ae-86be-2c72a052c9d2"
    },
    {
      "cell_type": "markdown",
      "metadata": {
        "id": "33dad5ed-3221-4915-ab45-71f16052fd20"
      },
      "source": [
        "We can find that our model is working now, with the increase of iterations, the loss decreased.\n",
        "\n",
        "To have a more intuitive feeling about the training process of our model, I also plot the predictions of our model here."
      ],
      "id": "33dad5ed-3221-4915-ab45-71f16052fd20"
    },
    {
      "cell_type": "code",
      "execution_count": 264,
      "metadata": {
        "id": "078aa26f-d0e2-4e6c-b12d-542910b484e7",
        "outputId": "1f89f887-4892-418a-af3a-7d26d042fd31",
        "colab": {
          "base_uri": "https://localhost:8080/",
          "height": 1000
        }
      },
      "outputs": [
        {
          "output_type": "stream",
          "name": "stdout",
          "text": [
            "0.41782885789871216\n"
          ]
        },
        {
          "output_type": "display_data",
          "data": {
            "text/plain": [
              "<Figure size 432x288 with 1 Axes>"
            ],
            "image/png": "[encoded data removed]"
          },
          "metadata": {
            "needs_background": "light"
          }
        },
        {
          "output_type": "stream",
          "name": "stdout",
          "text": [
            "0.1076914593577385\n"
          ]
        },
        {
          "output_type": "display_data",
          "data": {
            "text/plain": [
              "<Figure size 432x288 with 1 Axes>"
            ],
            "image/png": "[encoded data removed]"
          },
          "metadata": {
            "needs_background": "light"
          }
        },
        {
          "output_type": "stream",
          "name": "stdout",
          "text": [
            "0.10284586250782013\n"
          ]
        },
        {
          "output_type": "display_data",
          "data": {
            "text/plain": [
              "<Figure size 432x288 with 1 Axes>"
            ],
            "image/png": "[encoded data removed]"
          },
          "metadata": {
            "needs_background": "light"
          }
        },
        {
          "output_type": "stream",
          "name": "stdout",
          "text": [
            "0.09998273849487305\n"
          ]
        },
        {
          "output_type": "display_data",
          "data": {
            "text/plain": [
              "<Figure size 432x288 with 1 Axes>"
            ],
            "image/png": "[encoded data removed]"
          },
          "metadata": {
            "needs_background": "light"
          }
        },
        {
          "output_type": "stream",
          "name": "stdout",
          "text": [
            "0.09765460342168808\n"
          ]
        },
        {
          "output_type": "display_data",
          "data": {
            "text/plain": [
              "<Figure size 432x288 with 1 Axes>"
            ],
            "image/png": "[encoded data removed]"
          },
          "metadata": {
            "needs_background": "light"
          }
        },
        {
          "output_type": "stream",
          "name": "stdout",
          "text": [
            "0.09556093066930771\n"
          ]
        },
        {
          "output_type": "display_data",
          "data": {
            "text/plain": [
              "<Figure size 432x288 with 1 Axes>"
            ],
            "image/png": "[encoded data removed]"
          },
          "metadata": {
            "needs_background": "light"
          }
        },
        {
          "output_type": "stream",
          "name": "stdout",
          "text": [
            "0.09349958598613739\n"
          ]
        },
        {
          "output_type": "display_data",
          "data": {
            "text/plain": [
              "<Figure size 432x288 with 1 Axes>"
            ],
            "image/png": "[encoded data removed]"
          },
          "metadata": {
            "needs_background": "light"
          }
        },
        {
          "output_type": "stream",
          "name": "stdout",
          "text": [
            "0.0913732722401619\n"
          ]
        },
        {
          "output_type": "display_data",
          "data": {
            "text/plain": [
              "<Figure size 432x288 with 1 Axes>"
            ],
            "image/png": "[encoded data removed]"
          },
          "metadata": {
            "needs_background": "light"
          }
        },
        {
          "output_type": "stream",
          "name": "stdout",
          "text": [
            "0.08904922753572464\n"
          ]
        },
        {
          "output_type": "display_data",
          "data": {
            "text/plain": [
              "<Figure size 432x288 with 1 Axes>"
            ],
            "image/png": "[encoded data removed]"
          },
          "metadata": {
            "needs_background": "light"
          }
        },
        {
          "output_type": "stream",
          "name": "stdout",
          "text": [
            "0.08638198673725128\n"
          ]
        },
        {
          "output_type": "display_data",
          "data": {
            "text/plain": [
              "<Figure size 432x288 with 1 Axes>"
            ],
            "image/png": "[encoded data removed]"
          },
          "metadata": {
            "needs_background": "light"
          }
        },
        {
          "output_type": "stream",
          "name": "stdout",
          "text": [
            "0.08330240100622177\n"
          ]
        },
        {
          "output_type": "display_data",
          "data": {
            "text/plain": [
              "<Figure size 432x288 with 1 Axes>"
            ],
            "image/png": "[encoded data removed]"
          },
          "metadata": {
            "needs_background": "light"
          }
        },
        {
          "output_type": "stream",
          "name": "stdout",
          "text": [
            "0.0797039344906807\n"
          ]
        },
        {
          "output_type": "display_data",
          "data": {
            "text/plain": [
              "<Figure size 432x288 with 1 Axes>"
            ],
            "image/png": "[encoded data removed]"
          },
          "metadata": {
            "needs_background": "light"
          }
        },
        {
          "output_type": "stream",
          "name": "stdout",
          "text": [
            "0.07556730508804321\n"
          ]
        },
        {
          "output_type": "display_data",
          "data": {
            "text/plain": [
              "<Figure size 432x288 with 1 Axes>"
            ],
            "image/png": "[encoded data removed]"
          },
          "metadata": {
            "needs_background": "light"
          }
        },
        {
          "output_type": "stream",
          "name": "stdout",
          "text": [
            "0.07082998752593994\n"
          ]
        },
        {
          "output_type": "display_data",
          "data": {
            "text/plain": [
              "<Figure size 432x288 with 1 Axes>"
            ],
            "image/png": "[encoded data removed]"
          },
          "metadata": {
            "needs_background": "light"
          }
        },
        {
          "output_type": "stream",
          "name": "stdout",
          "text": [
            "0.06550704687833786\n"
          ]
        },
        {
          "output_type": "display_data",
          "data": {
            "text/plain": [
              "<Figure size 432x288 with 1 Axes>"
            ],
            "image/png": "[encoded data removed]"
          },
          "metadata": {
            "needs_background": "light"
          }
        },
        {
          "output_type": "stream",
          "name": "stdout",
          "text": [
            "0.05965520814061165\n"
          ]
        },
        {
          "output_type": "display_data",
          "data": {
            "text/plain": [
              "<Figure size 432x288 with 1 Axes>"
            ],
            "image/png": "[encoded data removed]"
          },
          "metadata": {
            "needs_background": "light"
          }
        },
        {
          "output_type": "stream",
          "name": "stdout",
          "text": [
            "0.053357332944869995\n"
          ]
        },
        {
          "output_type": "display_data",
          "data": {
            "text/plain": [
              "<Figure size 432x288 with 1 Axes>"
            ],
            "image/png": "[encoded data removed]"
          },
          "metadata": {
            "needs_background": "light"
          }
        },
        {
          "output_type": "stream",
          "name": "stdout",
          "text": [
            "0.046804022043943405\n"
          ]
        },
        {
          "output_type": "display_data",
          "data": {
            "text/plain": [
              "<Figure size 432x288 with 1 Axes>"
            ],
            "image/png": "[encoded data removed]"
          },
          "metadata": {
            "needs_background": "light"
          }
        },
        {
          "output_type": "stream",
          "name": "stdout",
          "text": [
            "0.04031234607100487\n"
          ]
        },
        {
          "output_type": "display_data",
          "data": {
            "text/plain": [
              "<Figure size 432x288 with 1 Axes>"
            ],
            "image/png": "[encoded data removed]"
          },
          "metadata": {
            "needs_background": "light"
          }
        },
        {
          "output_type": "stream",
          "name": "stdout",
          "text": [
            "0.03414478898048401\n"
          ]
        },
        {
          "output_type": "display_data",
          "data": {
            "text/plain": [
              "<Figure size 432x288 with 1 Axes>"
            ],
            "image/png": "[encoded data removed]"
          },
          "metadata": {
            "needs_background": "light"
          }
        }
      ],
      "source": [
        "net = Net(n_feature=1, n_hidden=10, n_output=1)\n",
        "optimizer = torch.optim.SGD(net.parameters(), lr=0.2) \n",
        "loss_func = torch.nn.MSELoss() \n",
        "\n",
        "plt.ion() \n",
        "plt.show()\n",
        "\n",
        "for t in range(100):\n",
        "    prediction = net(x)    \n",
        "    loss = loss_func(prediction, y)    \n",
        "\n",
        "    optimizer.zero_grad()   \n",
        "    loss.backward()         \n",
        "    optimizer.step()\n",
        "\n",
        "    if t % 5 == 0:\n",
        "        # plot and show learning process\n",
        "        plt.cla()\n",
        "        print(loss.item())\n",
        "        plt.scatter(x.data.numpy(), y.data.numpy())\n",
        "        plt.plot(x.data.numpy(), prediction.data.numpy(), 'r-', lw=5)\n",
        "        plt.text(0.5, 0, 'Loss=%.4f' % loss.data.numpy(), fontdict={'size': 20, 'color':  'red'})\n",
        "        plt.pause(0.1)"
      ],
      "id": "078aa26f-d0e2-4e6c-b12d-542910b484e7"
    },
    {
      "cell_type": "markdown",
      "metadata": {
        "id": "93a984d5-3ed8-4983-bcd0-adcae2358469"
      },
      "source": [
        "Please remember to call optimizer.zero_grad() before backprop, otherwise, the gradient would be a combination of the old gradient, which you have already used to update your model parameters.\n",
        "\n",
        "For more details about optimizer and loss function, you can check this official tutorial provided by Pytorch ([optimizer](https://pytorch.org/docs/stable/optim.html), [loss function](https://pytorch.org/docs/stable/nn.html#loss-functions)). "
      ],
      "id": "93a984d5-3ed8-4983-bcd0-adcae2358469"
    },
    {
      "cell_type": "markdown",
      "metadata": {
        "id": "JVNtAU3DuAFv"
      },
      "source": [
        "\n",
        "#3.1 Introduction to PyTorch Models. Another Example\n",
        "\n",
        "Reference tutotrial video, beginning from [10:00](https://www.youtube.com/watch?v=IC0_FRiX-sw&t=600s).\n",
        "\n",
        "\n",
        "\n"
      ],
      "id": "JVNtAU3DuAFv"
    },
    {
      "cell_type": "code",
      "execution_count": 265,
      "metadata": {
        "id": "ojLpwQRCuAFv"
      },
      "outputs": [],
      "source": [
        "import torch                     # for all things PyTorch\n",
        "import torch.nn as nn            # for torch.nn.Module, the parent object for PyTorch models\n",
        "import torch.nn.functional as F  # for the activation function"
      ],
      "id": "ojLpwQRCuAFv"
    },
    {
      "cell_type": "markdown",
      "metadata": {
        "id": "c_HY-cJPuAFv"
      },
      "source": [
        "![mnist.png](data:image/png;base64,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)\n",
        "\n",
        "\n",
        "*Figure: LeNet-5*\n",
        "\n",
        "Above is a diagram of LeNet-5, one of the earliest convolutional neural\n",
        "nets, and one of the drivers of the explosion in Deep Learning. It was\n",
        "built to read small images of handwritten numbers (the MNIST dataset),\n",
        "and correctly classify which digit was represented in the image.\n",
        "\n",
        "Here’s the abridged version of how it works:\n",
        "\n",
        "-  Layer C1 is a convolutional layer, meaning that it scans the input\n",
        "   image for features it learned during training. It outputs a map of\n",
        "   where it saw each of its learned features in the image. This\n",
        "   “activation map” is downsampled in layer S2.\n",
        "-  Layer C3 is another convolutional layer, this time scanning C1’s\n",
        "   activation map for *combinations* of features. It also puts out an\n",
        "   activation map describing the spatial locations of these feature\n",
        "   combinations, which is downsampled in layer S4.\n",
        "-  Finally, the fully-connected layers at the end, F5, F6, and OUTPUT,\n",
        "   are a *classifier* that takes the final activation map, and\n",
        "   classifies it into one of ten bins representing the 10 digits.\n",
        "\n",
        "How do we express this simple neural network in code?\n",
        "\n",
        "\n"
      ],
      "id": "c_HY-cJPuAFv"
    },
    {
      "cell_type": "code",
      "execution_count": 266,
      "metadata": {
        "id": "StKHEugHuAFw"
      },
      "outputs": [],
      "source": [
        "class LeNet(nn.Module):\n",
        "\n",
        "    def __init__(self):\n",
        "        super(LeNet, self).__init__()\n",
        "        # 1 input image channel (black & white), 6 output channels, 3x3 square convolution\n",
        "        # kernel\n",
        "        self.conv1 = nn.Conv2d(1, 6, 3)\n",
        "        self.conv2 = nn.Conv2d(6, 16, 3)\n",
        "        # an affine operation: y = Wx + b\n",
        "        self.fc1 = nn.Linear(16 * 6 * 6, 120)  # 6*6 from image dimension\n",
        "        self.fc2 = nn.Linear(120, 84)\n",
        "        self.fc3 = nn.Linear(84, 10)\n",
        "\n",
        "    def forward(self, x):\n",
        "        # Max pooling over a (2, 2) window\n",
        "        x = F.max_pool2d(F.relu(self.conv1(x)), (2, 2))\n",
        "        # If the size is a square you can only specify a single number\n",
        "        x = F.max_pool2d(F.relu(self.conv2(x)), 2)\n",
        "        x = x.view(-1, self.num_flat_features(x))\n",
        "        x = F.relu(self.fc1(x))\n",
        "        x = F.relu(self.fc2(x))\n",
        "        x = self.fc3(x)\n",
        "        return x\n",
        "\n",
        "    def num_flat_features(self, x):\n",
        "        size = x.size()[1:]  # all dimensions except the batch dimension\n",
        "        num_features = 1\n",
        "        for s in size:\n",
        "            num_features *= s\n",
        "        return num_features"
      ],
      "id": "StKHEugHuAFw"
    },
    {
      "cell_type": "markdown",
      "metadata": {
        "id": "L-y3peKbuAFw"
      },
      "source": [
        "Looking over this code, you should be able to spot some structural\n",
        "similarities with the diagram above.\n",
        "\n",
        "This demonstrates the structure of a typical PyTorch model: \n",
        "\n",
        "-  It inherits from ``torch.nn.Module`` - modules may be nested - in fact,\n",
        "   even the ``Conv2d`` and ``Linear`` layer classes inherit from\n",
        "   ``torch.nn.Module``.\n",
        "-  A model will have an ``__init__()`` function, where it instantiates\n",
        "   its layers, and loads any data artifacts it might\n",
        "   need (e.g., an NLP model might load a vocabulary).\n",
        "-  A model will have a ``forward()`` function. This is where the actual\n",
        "   computation happens: An input is passed through the network layers\n",
        "   and various functions to generate an output.\n",
        "-  Other than that, you can build out your model class like any other\n",
        "   Python class, adding whatever properties and methods you need to\n",
        "   support your model’s computation.\n",
        "\n",
        "Let’s instantiate this object and run a sample input through it.\n",
        "\n",
        "\n"
      ],
      "id": "L-y3peKbuAFw"
    },
    {
      "cell_type": "code",
      "execution_count": 267,
      "metadata": {
        "id": "ud2wBUuDuAFw",
        "colab": {
          "base_uri": "https://localhost:8080/"
        },
        "outputId": "516a9e90-bf97-437a-ef2c-0fecce33f796"
      },
      "outputs": [
        {
          "output_type": "stream",
          "name": "stdout",
          "text": [
            "LeNet(\n",
            "  (conv1): Conv2d(1, 6, kernel_size=(3, 3), stride=(1, 1))\n",
            "  (conv2): Conv2d(6, 16, kernel_size=(3, 3), stride=(1, 1))\n",
            "  (fc1): Linear(in_features=576, out_features=120, bias=True)\n",
            "  (fc2): Linear(in_features=120, out_features=84, bias=True)\n",
            "  (fc3): Linear(in_features=84, out_features=10, bias=True)\n",
            ")\n",
            "\n",
            "Image batch shape:\n",
            "torch.Size([1, 1, 32, 32])\n",
            "\n",
            "Raw output:\n",
            "tensor([[ 0.0808, -0.0158,  0.0729,  0.0162,  0.0425,  0.0120, -0.0770, -0.0128,\n",
            "         -0.0478, -0.0641]], grad_fn=<AddmmBackward0>)\n",
            "torch.Size([1, 10])\n"
          ]
        }
      ],
      "source": [
        "net = LeNet()\n",
        "print(net)                         # what does the object tell us about itself?\n",
        "\n",
        "input = torch.rand(1, 1, 32, 32)   # stand-in for a 32x32 black & white image\n",
        "print('\\nImage batch shape:')\n",
        "print(input.shape)\n",
        "\n",
        "output = net(input)                # we don't call forward() directly\n",
        "print('\\nRaw output:')\n",
        "print(output)\n",
        "print(output.shape)"
      ],
      "id": "ud2wBUuDuAFw"
    },
    {
      "cell_type": "markdown",
      "metadata": {
        "id": "bpqfQAFsuAFw"
      },
      "source": [
        "There are a few important things happening above:\n",
        "\n",
        "First, we instantiate the ``LeNet`` class, and we print the ``net``\n",
        "object. A subclass of ``torch.nn.Module`` will report the layers it has\n",
        "created and their shapes and parameters. This can provide a handy\n",
        "overview of a model if you want to get the gist of its processing.\n",
        "\n",
        "Below that, we create a dummy input representing a 32x32 image with 1\n",
        "color channel. Normally, you would load an image tile and convert it to\n",
        "a tensor of this shape.\n",
        "\n",
        "You may have noticed an extra dimension to our tensor - the *batch\n",
        "dimension.* PyTorch models assume they are working on *batches* of data\n",
        "- for example, a batch of 16 of our image tiles would have the shape\n",
        "``(16, 1, 32, 32)``. Since we’re only using one image, we create a batch\n",
        "of 1 with shape ``(1, 1, 32, 32)``.\n",
        "\n",
        "We ask the model for an inference by calling it like a function:\n",
        "``net(input)``. The output of this call represents the model’s\n",
        "confidence that the input represents a particular digit. (Since this\n",
        "instance of the model hasn’t learned anything yet, we shouldn’t expect\n",
        "to see any signal in the output.) Looking at the shape of ``output``, we\n",
        "can see that it also has a batch dimension, the size of which should\n",
        "always match the input batch dimension. If we had passed in an input\n",
        "batch of 16 instances, ``output`` would have a shape of ``(16, 10)``.\n",
        "\n",
        "## Datasets and Dataloaders\n",
        "*Follow along with the reference video beginning at [14:00](https://www.youtube.com/watch?v=IC0_FRiX-sw&t=840s).*\n",
        "\n",
        "Below, we’re going to demonstrate using one of the ready-to-download,\n",
        "open-access datasets from TorchVision, how to transform the images for\n",
        "consumption by your model, and how to use the DataLoader to feed batches\n",
        "of data to your model.\n",
        "\n",
        "The first thing we need to do is transform our incoming images into a\n",
        "PyTorch tensor.\n",
        "\n",
        "\n"
      ],
      "id": "bpqfQAFsuAFw"
    },
    {
      "cell_type": "code",
      "execution_count": 268,
      "metadata": {
        "id": "Zb4ywh1OuAFw"
      },
      "outputs": [],
      "source": [
        "#%matplotlib inline\n",
        "\n",
        "import torch\n",
        "import torchvision\n",
        "import torchvision.transforms as transforms\n",
        "\n",
        "transform = transforms.Compose(\n",
        "    [transforms.ToTensor(),\n",
        "     transforms.Normalize((0.5, 0.5, 0.5), (0.5, 0.5, 0.5))])"
      ],
      "id": "Zb4ywh1OuAFw"
    },
    {
      "cell_type": "markdown",
      "metadata": {
        "id": "b6QgxR9XuAFw"
      },
      "source": [
        "Here, we specify two transformations for our input:\n",
        "\n",
        "-  ``transforms.ToTensor()`` converts images loaded by Pillow into \n",
        "   PyTorch tensors.\n",
        "-  ``transforms.Normalize()`` adjusts the values of the tensor so\n",
        "   that their average is zero and their standard deviation is 0.5. Most\n",
        "   activation functions have their strongest gradients around x = 0, so\n",
        "   centering our data there can speed learning.\n",
        "\n",
        "There are many more transforms available, including cropping, centering,\n",
        "rotation, and reflection.\n",
        "\n",
        "Next, we’ll create an instance of the CIFAR10 dataset. This is a set of\n",
        "32x32 color image tiles representing 10 classes of objects: 6 of animals\n",
        "(bird, cat, deer, dog, frog, horse) and 4 of vehicles (airplane,\n",
        "automobile, ship, truck):\n",
        "\n",
        "\n"
      ],
      "id": "b6QgxR9XuAFw"
    },
    {
      "cell_type": "code",
      "execution_count": 269,
      "metadata": {
        "id": "EL9llne7uAFw",
        "colab": {
          "base_uri": "https://localhost:8080/"
        },
        "outputId": "649feaad-f06b-4778-8063-e23db58db4e5"
      },
      "outputs": [
        {
          "output_type": "stream",
          "name": "stdout",
          "text": [
            "Files already downloaded and verified\n"
          ]
        }
      ],
      "source": [
        "trainset = torchvision.datasets.CIFAR10(root='./data', train=True,\n",
        "                                        download=True, transform=transform)"
      ],
      "id": "EL9llne7uAFw"
    },
    {
      "cell_type": "markdown",
      "metadata": {
        "id": "loLjSty5uAFw"
      },
      "source": [
        "<div class=\"alert alert-info\"><h4>Note</h4><p>When you run the cell above, it may take a little time for the \n",
        "     dataset to download.</p></div>\n",
        "\n",
        "This is an example of creating a dataset object in PyTorch. Downloadable\n",
        "datasets (like CIFAR-10 above) are subclasses of\n",
        "``torch.utils.data.Dataset``. ``Dataset`` classes in PyTorch include the\n",
        "downloadable datasets in TorchVision, Torchtext, and TorchAudio, as well\n",
        "as utility dataset classes such as ``torchvision.datasets.ImageFolder``,\n",
        "which will read a folder of labeled images. You can also create your own\n",
        "subclasses of ``Dataset``.\n",
        "\n",
        "When we instantiate our dataset, we need to tell it a few things:\n",
        "\n",
        "-  The filesystem path to where we want the data to go. \n",
        "-  Whether or not we are using this set for training; most datasets\n",
        "   will be split into training and test subsets.\n",
        "-  Whether we would like to download the dataset if we haven’t already.\n",
        "-  The transformations we want to apply to the data.\n",
        "\n",
        "Once your dataset is ready, you can give it to the ``DataLoader``:\n",
        "\n",
        "\n"
      ],
      "id": "loLjSty5uAFw"
    },
    {
      "cell_type": "code",
      "execution_count": 270,
      "metadata": {
        "id": "VuzNbx68uAFw"
      },
      "outputs": [],
      "source": [
        "trainloader = torch.utils.data.DataLoader(trainset, batch_size=4,\n",
        "                                          shuffle=True, num_workers=2)"
      ],
      "id": "VuzNbx68uAFw"
    },
    {
      "cell_type": "markdown",
      "metadata": {
        "id": "Wz0FmtZMuAFx"
      },
      "source": [
        "A ``Dataset`` subclass wraps access to the data, and is specialized to\n",
        "the type of data it’s serving. The ``DataLoader`` knows *nothing* about\n",
        "the data, but organizes the input tensors served by the ``Dataset`` into\n",
        "batches with the parameters you specify.\n",
        "\n",
        "In the example above, we’ve asked a ``DataLoader`` to give us batches of\n",
        "4 images from ``trainset``, randomizing their order (``shuffle=True``),\n",
        "and we told it to spin up two workers to load data from disk.\n",
        "\n",
        "It’s good practice to visualize the batches your ``DataLoader`` serves:\n",
        "\n",
        "\n"
      ],
      "id": "Wz0FmtZMuAFx"
    },
    {
      "cell_type": "code",
      "execution_count": 271,
      "metadata": {
        "id": "p6MlHSEGuAFx",
        "colab": {
          "base_uri": "https://localhost:8080/",
          "height": 0
        },
        "outputId": "b5e5e12c-60c8-4b4b-ecbd-b5e43a0bfac6"
      },
      "outputs": [
        {
          "output_type": "stream",
          "name": "stdout",
          "text": [
            "horse   dog  ship  deer\n"
          ]
        },
        {
          "output_type": "display_data",
          "data": {
            "text/plain": [
              "<Figure size 432x288 with 1 Axes>"
            ],
            "image/png": "[encoded data removed]"
          },
          "metadata": {
            "needs_background": "light"
          }
        }
      ],
      "source": [
        "import matplotlib.pyplot as plt\n",
        "import numpy as np\n",
        "\n",
        "classes = ('plane', 'car', 'bird', 'cat',\n",
        "           'deer', 'dog', 'frog', 'horse', 'ship', 'truck')\n",
        "\n",
        "def imshow(img):\n",
        "    img = img / 2 + 0.5     # unnormalize\n",
        "    npimg = img.numpy()\n",
        "    plt.imshow(np.transpose(npimg, (1, 2, 0)))\n",
        "\n",
        "\n",
        "# get some random training images\n",
        "dataiter = iter(trainloader)\n",
        "images, labels = dataiter.next()\n",
        "\n",
        "# show images\n",
        "imshow(torchvision.utils.make_grid(images))\n",
        "# print labels\n",
        "print(' '.join('%5s' % classes[labels[j]] for j in range(4)))"
      ],
      "id": "p6MlHSEGuAFx"
    },
    {
      "cell_type": "markdown",
      "metadata": {
        "id": "Cu3eEiBjuAFx"
      },
      "source": [
        "Running the above cell should show you a strip of four images, and the\n",
        "correct label for each.\n",
        "\n",
        "## Training Your PyTorch Model\n",
        "*Follow along with the video beginning at [17:10](https://www.youtube.com/watch?v=IC0_FRiX-sw&t=1030s).*\n",
        "\n",
        "Let’s put all the pieces together, and train a model:\n",
        "\n",
        "\n"
      ],
      "id": "Cu3eEiBjuAFx"
    },
    {
      "cell_type": "code",
      "execution_count": 272,
      "metadata": {
        "id": "KyiPKSWruAFx"
      },
      "outputs": [],
      "source": [
        "#%matplotlib inline\n",
        "\n",
        "import torch\n",
        "import torch.nn as nn\n",
        "import torch.nn.functional as F\n",
        "import torch.optim as optim\n",
        "\n",
        "import torchvision\n",
        "import torchvision.transforms as transforms\n",
        "\n",
        "import matplotlib\n",
        "import matplotlib.pyplot as plt\n",
        "import numpy as np"
      ],
      "id": "KyiPKSWruAFx"
    },
    {
      "cell_type": "markdown",
      "metadata": {
        "id": "4aZWTENUuAFx"
      },
      "source": [
        "First, we’ll need training and test datasets. If you haven’t already,\n",
        "run the cell below to make sure the dataset is downloaded. (It may take\n",
        "a minute.)\n",
        "\n",
        "\n"
      ],
      "id": "4aZWTENUuAFx"
    },
    {
      "cell_type": "code",
      "execution_count": 273,
      "metadata": {
        "id": "xutYfe0LuAFx",
        "colab": {
          "base_uri": "https://localhost:8080/"
        },
        "outputId": "a873ed83-8378-4502-b18b-d3965e13ddce"
      },
      "outputs": [
        {
          "output_type": "stream",
          "name": "stdout",
          "text": [
            "Files already downloaded and verified\n",
            "Files already downloaded and verified\n"
          ]
        }
      ],
      "source": [
        "transform = transforms.Compose(\n",
        "    [transforms.ToTensor(),\n",
        "     transforms.Normalize((0.5, 0.5, 0.5), (0.5, 0.5, 0.5))])\n",
        "\n",
        "trainset = torchvision.datasets.CIFAR10(root='./data', train=True,\n",
        "                                        download=True, transform=transform)\n",
        "trainloader = torch.utils.data.DataLoader(trainset, batch_size=4,\n",
        "                                          shuffle=True, num_workers=2)\n",
        "\n",
        "testset = torchvision.datasets.CIFAR10(root='./data', train=False,\n",
        "                                       download=True, transform=transform)\n",
        "testloader = torch.utils.data.DataLoader(testset, batch_size=4,\n",
        "                                         shuffle=False, num_workers=2)\n",
        "\n",
        "classes = ('plane', 'car', 'bird', 'cat',\n",
        "           'deer', 'dog', 'frog', 'horse', 'ship', 'truck')"
      ],
      "id": "xutYfe0LuAFx"
    },
    {
      "cell_type": "markdown",
      "metadata": {
        "id": "Y_KsCtF4uAFx"
      },
      "source": [
        "We’ll run our check on the output from ``DataLoader``:\n",
        "\n",
        "\n"
      ],
      "id": "Y_KsCtF4uAFx"
    },
    {
      "cell_type": "code",
      "execution_count": 274,
      "metadata": {
        "id": "Mh-9rdQPuAFx",
        "colab": {
          "base_uri": "https://localhost:8080/",
          "height": 0
        },
        "outputId": "2362ebb9-2afd-4a72-cb4a-660ba6c77123"
      },
      "outputs": [
        {
          "output_type": "stream",
          "name": "stdout",
          "text": [
            "horse   car truck  bird\n"
          ]
        },
        {
          "output_type": "display_data",
          "data": {
            "text/plain": [
              "<Figure size 432x288 with 1 Axes>"
            ],
            "image/png": "[encoded data removed]"
          },
          "metadata": {
            "needs_background": "light"
          }
        }
      ],
      "source": [
        "import matplotlib.pyplot as plt\n",
        "import numpy as np\n",
        "\n",
        "# functions to show an image\n",
        "\n",
        "\n",
        "def imshow(img):\n",
        "    img = img / 2 + 0.5     # unnormalize\n",
        "    npimg = img.numpy()\n",
        "    plt.imshow(np.transpose(npimg, (1, 2, 0)))\n",
        "\n",
        "\n",
        "# get some random training images\n",
        "dataiter = iter(trainloader)\n",
        "images, labels = dataiter.next()\n",
        "\n",
        "# show images\n",
        "imshow(torchvision.utils.make_grid(images))\n",
        "# print labels\n",
        "print(' '.join('%5s' % classes[labels[j]] for j in range(4)))"
      ],
      "id": "Mh-9rdQPuAFx"
    },
    {
      "cell_type": "markdown",
      "metadata": {
        "id": "qyxxTcm4uAFx"
      },
      "source": [
        "This is the model we’ll train. If it looks familiar, that’s because it’s\n",
        "a variant of LeNet - discussed earlier in the reference video - adapted for\n",
        "3-color images.\n",
        "\n",
        "\n"
      ],
      "id": "qyxxTcm4uAFx"
    },
    {
      "cell_type": "code",
      "execution_count": 275,
      "metadata": {
        "id": "dwzxF1wCuAFx"
      },
      "outputs": [],
      "source": [
        "class Net(nn.Module):\n",
        "    def __init__(self):\n",
        "        super(Net, self).__init__()\n",
        "        self.conv1 = nn.Conv2d(3, 6, 5)\n",
        "        self.pool = nn.MaxPool2d(2, 2)\n",
        "        self.conv2 = nn.Conv2d(6, 16, 5)\n",
        "        self.fc1 = nn.Linear(16 * 5 * 5, 120)\n",
        "        self.fc2 = nn.Linear(120, 84)\n",
        "        self.fc3 = nn.Linear(84, 10)\n",
        "\n",
        "    def forward(self, x):\n",
        "        x = self.pool(F.relu(self.conv1(x)))\n",
        "        x = self.pool(F.relu(self.conv2(x)))\n",
        "        x = x.view(-1, 16 * 5 * 5)\n",
        "        x = F.relu(self.fc1(x))\n",
        "        x = F.relu(self.fc2(x))\n",
        "        x = self.fc3(x)\n",
        "        return x\n",
        "\n",
        "\n",
        "net = Net()"
      ],
      "id": "dwzxF1wCuAFx"
    },
    {
      "cell_type": "markdown",
      "metadata": {
        "id": "3Y-PeneJuAFx"
      },
      "source": [
        "The last ingredients we need are a loss function and an optimizer:\n",
        "\n",
        "\n"
      ],
      "id": "3Y-PeneJuAFx"
    },
    {
      "cell_type": "code",
      "execution_count": 276,
      "metadata": {
        "id": "M8O4JRcduAFx"
      },
      "outputs": [],
      "source": [
        "criterion = nn.CrossEntropyLoss()\n",
        "optimizer = optim.SGD(net.parameters(), lr=0.001, momentum=0.9)"
      ],
      "id": "M8O4JRcduAFx"
    },
    {
      "cell_type": "markdown",
      "metadata": {
        "id": "uMIC_RnguAFx"
      },
      "source": [
        "The loss function, as discussed earlier in the video at the beginning of the tutorial, is a measure of\n",
        "how far from our ideal output the model’s prediction was. Cross-entropy\n",
        "loss is a typical loss function for classification models like ours.\n",
        "\n",
        "The **optimizer** is what drives the learning. Here we have created an\n",
        "optimizer that implements *stochastic gradient descent,* one of the more\n",
        "straightforward optimization algorithms. Besides parameters of the\n",
        "algorithm, like the learning rate (``lr``) and momentum, we also pass in\n",
        "``net.parameters()``, which is a collection of all the learning weights\n",
        "in the model - which is what the optimizer adjusts.\n",
        "\n",
        "Finally, all of this is assembled into the training loop. Go ahead and\n",
        "run this cell, as it will likely take a few minutes to execute:\n",
        "\n",
        "\n"
      ],
      "id": "uMIC_RnguAFx"
    },
    {
      "cell_type": "code",
      "execution_count": 277,
      "metadata": {
        "id": "COs9MZU9uAFx",
        "colab": {
          "base_uri": "https://localhost:8080/"
        },
        "outputId": "0fb76016-26fb-42f2-b1df-ef0ca5ce0f28"
      },
      "outputs": [
        {
          "output_type": "stream",
          "name": "stdout",
          "text": [
            "[1,  2000] loss: 2.204\n",
            "[1,  4000] loss: 1.878\n",
            "[1,  6000] loss: 1.681\n",
            "[1,  8000] loss: 1.577\n",
            "[1, 10000] loss: 1.520\n",
            "[1, 12000] loss: 1.472\n",
            "[2,  2000] loss: 1.434\n",
            "[2,  4000] loss: 1.377\n",
            "[2,  6000] loss: 1.343\n",
            "[2,  8000] loss: 1.314\n",
            "[2, 10000] loss: 1.304\n",
            "[2, 12000] loss: 1.243\n",
            "Finished Training\n"
          ]
        }
      ],
      "source": [
        "for epoch in range(2):  # loop over the dataset multiple times\n",
        "\n",
        "    running_loss = 0.0\n",
        "    for i, data in enumerate(trainloader, 0):\n",
        "        # get the inputs\n",
        "        inputs, labels = data\n",
        "\n",
        "        # zero the parameter gradients\n",
        "        optimizer.zero_grad()\n",
        "\n",
        "        # forward + backward + optimize\n",
        "        outputs = net(inputs)\n",
        "        loss = criterion(outputs, labels)\n",
        "        loss.backward()\n",
        "        optimizer.step()\n",
        "\n",
        "        # print statistics\n",
        "        running_loss += loss.item()\n",
        "        if i % 2000 == 1999:    # print every 2000 mini-batches\n",
        "            print('[%d, %5d] loss: %.3f' %\n",
        "                  (epoch + 1, i + 1, running_loss / 2000))\n",
        "            running_loss = 0.0\n",
        "\n",
        "print('Finished Training')"
      ],
      "id": "COs9MZU9uAFx"
    },
    {
      "cell_type": "markdown",
      "metadata": {
        "id": "jnr_LBZXuAFx"
      },
      "source": [
        "Here, we are doing only **2 training epochs** (line 1) - that is, two\n",
        "passes over the training dataset. Each pass has an inner loop that\n",
        "**iterates over the training data** (line 4), serving batches of\n",
        "transformed input images and their correct labels.\n",
        "\n",
        "**Zeroing the gradients** (line 9) is an important step. Gradients are\n",
        "accumulated over a batch; if we do not reset them for every batch, they\n",
        "will keep accumulating, which will provide incorrect gradient values,\n",
        "making learning impossible.\n",
        "\n",
        "In line 12, we **ask the model for its predictions** on this batch. In\n",
        "the following line (13), we compute the loss - the difference between\n",
        "``outputs`` (the model prediction) and ``labels`` (the correct output).\n",
        "\n",
        "In line 14, we do the ``backward()`` pass, and calculate the gradients\n",
        "that will direct the learning.\n",
        "\n",
        "In line 15, the optimizer performs one learning step - it uses the\n",
        "gradients from the ``backward()`` call to nudge the learning weights in\n",
        "the direction it thinks will reduce the loss.\n",
        "\n",
        "The remainder of the loop does some light reporting on the epoch number,\n",
        "how many training instances have been completed, and what the collected\n",
        "loss is over the training loop.\n",
        "\n",
        "**When you run the cell above,** you should see something like this:\n",
        "```\n",
        "\n",
        "   [1,  2000] loss: 2.235\n",
        "   [1,  4000] loss: 1.940\n",
        "   [1,  6000] loss: 1.713\n",
        "   [1,  8000] loss: 1.573\n",
        "   [1, 10000] loss: 1.507\n",
        "   [1, 12000] loss: 1.442\n",
        "   [2,  2000] loss: 1.378\n",
        "   [2,  4000] loss: 1.364\n",
        "   [2,  6000] loss: 1.349\n",
        "   [2,  8000] loss: 1.319\n",
        "   [2, 10000] loss: 1.284\n",
        "   [2, 12000] loss: 1.267\n",
        "   Finished Training\n",
        "\n",
        "   ```\n",
        "\n",
        "Note that the loss is monotonically descending, indicating that our\n",
        "model is continuing to improve its performance on the training dataset.\n",
        "\n",
        "As a final step, we should check that the model is actually doing\n",
        "*general* learning, and not simply “memorizing” the dataset. This is\n",
        "called **overfitting,** and usually indicates that the dataset is too\n",
        "small (not enough examples for general learning), or that the model has\n",
        "more learning parameters than it needs to correctly model the dataset.\n",
        "\n",
        "This is the reason datasets are split into training and test subsets -\n",
        "to test the generality of the model, we ask it to make predictions on\n",
        "data it hasn’t trained on:\n",
        "\n",
        "\n"
      ],
      "id": "jnr_LBZXuAFx"
    },
    {
      "cell_type": "code",
      "execution_count": 278,
      "metadata": {
        "id": "Y34R5RrRuAFy",
        "colab": {
          "base_uri": "https://localhost:8080/"
        },
        "outputId": "52ba43e6-5ee6-44b3-d30a-2bcebf95ff40"
      },
      "outputs": [
        {
          "output_type": "stream",
          "name": "stdout",
          "text": [
            "Accuracy of the network on the 10000 test images: 54 %\n"
          ]
        }
      ],
      "source": [
        "correct = 0\n",
        "total = 0\n",
        "with torch.no_grad():\n",
        "    for data in testloader:\n",
        "        images, labels = data\n",
        "        outputs = net(images)\n",
        "        _, predicted = torch.max(outputs.data, 1)\n",
        "        total += labels.size(0)\n",
        "        correct += (predicted == labels).sum().item()\n",
        "\n",
        "print('Accuracy of the network on the 10000 test images: %d %%' % (\n",
        "    100 * correct / total))"
      ],
      "id": "Y34R5RrRuAFy"
    },
    {
      "cell_type": "markdown",
      "metadata": {
        "id": "bF_-RZLxuAFy"
      },
      "source": [
        "If you followed along, you should see that the model is roughly 50%\n",
        "accurate at this point. That’s not exactly state-of-the-art, but it’s\n",
        "far better than the 10% accuracy we’d expect from a random output. This\n",
        "demonstrates that some general learning did happen in the model.\n",
        "\n",
        "\n"
      ],
      "id": "bF_-RZLxuAFy"
    },
    {
      "cell_type": "markdown",
      "id": "b1ab10ed-25e9-4c05-a97e-15e8bf89f4b5",
      "metadata": {
        "id": "b1ab10ed-25e9-4c05-a97e-15e8bf89f4b5"
      },
      "source": [
        "# 4. Sentiment Analysis with RNN"
      ]
    },
    {
      "cell_type": "markdown",
      "id": "21b7d743-8077-4b67-b69c-627f2725c0f3",
      "metadata": {
        "id": "21b7d743-8077-4b67-b69c-627f2725c0f3"
      },
      "source": [
        "We have already seen feed-forward networks where inputs are multiplied by a weight and then bias is added to that and so on and finally we get output from the last layer. But the problem with these types of networks is they do not store memory and cannot be used in sequential data. This is the reason Recurrent Neural Networks (RNN) was introduced.\n",
        "\n",
        "In this part, we will be using PyTorch to train a RNN to do sentiment analysis."
      ]
    },
    {
      "cell_type": "markdown",
      "source": [
        "Prepare data"
      ],
      "metadata": {
        "id": "ouA0dybkUqzr"
      },
      "id": "ouA0dybkUqzr"
    },
    {
      "cell_type": "code",
      "source": [
        "#mount google drive\n",
        "import pandas as pd\n",
        "from google.colab import drive\n",
        "drive.mount('/content/gdrive/')"
      ],
      "metadata": {
        "id": "EDOfast5Up7j",
        "colab": {
          "base_uri": "https://localhost:8080/"
        },
        "outputId": "e485d51e-4091-49ab-f7a5-9fd411450065"
      },
      "id": "EDOfast5Up7j",
      "execution_count": 279,
      "outputs": [
        {
          "output_type": "stream",
          "name": "stdout",
          "text": [
            "Drive already mounted at /content/gdrive/; to attempt to forcibly remount, call drive.mount(\"/content/gdrive/\", force_remount=True).\n"
          ]
        }
      ]
    },
    {
      "cell_type": "code",
      "source": [
        "prefix = '/content/gdrive/MyDrive/'\n",
        "# modify \"customized_path_to_your_workshop_data\" here to where your data is\n",
        "customized_path_to_your_workshop_data = 'files/workshop_2/'\n",
        "train_path = prefix + customized_path_to_your_workshop_data + 'sentiment_analysis/train.csv'\n",
        "test_path = prefix + customized_path_to_your_workshop_data + 'sentiment_analysis/test.csv'"
      ],
      "metadata": {
        "id": "nO1tjQWvVBig"
      },
      "id": "nO1tjQWvVBig",
      "execution_count": 1,
      "outputs": []
    },
    {
      "cell_type": "code",
      "execution_count": 281,
      "id": "ee4c3a20-5829-468b-a77c-584a5c09cfac",
      "metadata": {
        "id": "ee4c3a20-5829-468b-a77c-584a5c09cfac"
      },
      "outputs": [],
      "source": [
        "train_df = pd.read_csv(train_path)\n",
        "test_df = pd.read_csv(test_path)"
      ]
    },
    {
      "cell_type": "code",
      "execution_count": 282,
      "id": "3da8a4d2-711a-4957-8016-992d634f76b6",
      "metadata": {
        "id": "3da8a4d2-711a-4957-8016-992d634f76b6",
        "outputId": "f8e03da9-427c-4661-c811-6686b723338b",
        "colab": {
          "base_uri": "https://localhost:8080/",
          "height": 206
        }
      },
      "outputs": [
        {
          "output_type": "execute_result",
          "data": {
            "text/plain": [
              "  sentiment                                             review\n",
              "0  positive  one reviewer mentioned watching oz episode hoo...\n",
              "1  positive  wonderful little production filming technique ...\n",
              "2  positive  thought wonderful way spend time hot summer we...\n",
              "3  negative  basically family little boy jake think zombie ...\n",
              "4  positive  petter matteis love time money visually stunni..."
            ],
            "text/html": [
              "\n",
              "  <div id=\"df-d302402d-50b1-4421-b5d9-8e37253be666\">\n",
              "    <div class=\"colab-df-container\">\n",
              "      <div>\n",
              "<style scoped>\n",
              "    .dataframe tbody tr th:only-of-type {\n",
              "        vertical-align: middle;\n",
              "    }\n",
              "\n",
              "    .dataframe tbody tr th {\n",
              "        vertical-align: top;\n",
              "    }\n",
              "\n",
              "    .dataframe thead th {\n",
              "        text-align: right;\n",
              "    }\n",
              "</style>\n",
              "<table border=\"1\" class=\"dataframe\">\n",
              "  <thead>\n",
              "    <tr style=\"text-align: right;\">\n",
              "      <th></th>\n",
              "      <th>sentiment</th>\n",
              "      <th>review</th>\n",
              "    </tr>\n",
              "  </thead>\n",
              "  <tbody>\n",
              "    <tr>\n",
              "      <th>0</th>\n",
              "      <td>positive</td>\n",
              "      <td>one reviewer mentioned watching oz episode hoo...</td>\n",
              "    </tr>\n",
              "    <tr>\n",
              "      <th>1</th>\n",
              "      <td>positive</td>\n",
              "      <td>wonderful little production filming technique ...</td>\n",
              "    </tr>\n",
              "    <tr>\n",
              "      <th>2</th>\n",
              "      <td>positive</td>\n",
              "      <td>thought wonderful way spend time hot summer we...</td>\n",
              "    </tr>\n",
              "    <tr>\n",
              "      <th>3</th>\n",
              "      <td>negative</td>\n",
              "      <td>basically family little boy jake think zombie ...</td>\n",
              "    </tr>\n",
              "    <tr>\n",
              "      <th>4</th>\n",
              "      <td>positive</td>\n",
              "      <td>petter matteis love time money visually stunni...</td>\n",
              "    </tr>\n",
              "  </tbody>\n",
              "</table>\n",
              "</div>\n",
              "      <button class=\"colab-df-convert\" onclick=\"convertToInteractive('df-d302402d-50b1-4421-b5d9-8e37253be666')\"\n",
              "              title=\"Convert this dataframe to an interactive table.\"\n",
              "              style=\"display:none;\">\n",
              "        \n",
              "  <svg xmlns=\"http://www.w3.org/2000/svg\" height=\"24px\"viewBox=\"0 0 24 24\"\n",
              "       width=\"24px\">\n",
              "    <path d=\"M0 0h24v24H0V0z\" fill=\"none\"/>\n",
              "    <path d=\"M18.56 5.44l.94 2.06.94-2.06 2.06-.94-2.06-.94-.94-2.06-.94 2.06-2.06.94zm-11 1L8.5 8.5l.94-2.06 2.06-.94-2.06-.94L8.5 2.5l-.94 2.06-2.06.94zm10 10l.94 2.06.94-2.06 2.06-.94-2.06-.94-.94-2.06-.94 2.06-2.06.94z\"/><path d=\"M17.41 7.96l-1.37-1.37c-.4-.4-.92-.59-1.43-.59-.52 0-1.04.2-1.43.59L10.3 9.45l-7.72 7.72c-.78.78-.78 2.05 0 2.83L4 21.41c.39.39.9.59 1.41.59.51 0 1.02-.2 1.41-.59l7.78-7.78 2.81-2.81c.8-.78.8-2.07 0-2.86zM5.41 20L4 18.59l7.72-7.72 1.47 1.35L5.41 20z\"/>\n",
              "  </svg>\n",
              "      </button>\n",
              "      \n",
              "  <style>\n",
              "    .colab-df-container {\n",
              "      display:flex;\n",
              "      flex-wrap:wrap;\n",
              "      gap: 12px;\n",
              "    }\n",
              "\n",
              "    .colab-df-convert {\n",
              "      background-color: #E8F0FE;\n",
              "      border: none;\n",
              "      border-radius: 50%;\n",
              "      cursor: pointer;\n",
              "      display: none;\n",
              "      fill: #1967D2;\n",
              "      height: 32px;\n",
              "      padding: 0 0 0 0;\n",
              "      width: 32px;\n",
              "    }\n",
              "\n",
              "    .colab-df-convert:hover {\n",
              "      background-color: #E2EBFA;\n",
              "      box-shadow: 0px 1px 2px rgba(60, 64, 67, 0.3), 0px 1px 3px 1px rgba(60, 64, 67, 0.15);\n",
              "      fill: #174EA6;\n",
              "    }\n",
              "\n",
              "    [theme=dark] .colab-df-convert {\n",
              "      background-color: #3B4455;\n",
              "      fill: #D2E3FC;\n",
              "    }\n",
              "\n",
              "    [theme=dark] .colab-df-convert:hover {\n",
              "      background-color: #434B5C;\n",
              "      box-shadow: 0px 1px 3px 1px rgba(0, 0, 0, 0.15);\n",
              "      filter: drop-shadow(0px 1px 2px rgba(0, 0, 0, 0.3));\n",
              "      fill: #FFFFFF;\n",
              "    }\n",
              "  </style>\n",
              "\n",
              "      <script>\n",
              "        const buttonEl =\n",
              "          document.querySelector('#df-d302402d-50b1-4421-b5d9-8e37253be666 button.colab-df-convert');\n",
              "        buttonEl.style.display =\n",
              "          google.colab.kernel.accessAllowed ? 'block' : 'none';\n",
              "\n",
              "        async function convertToInteractive(key) {\n",
              "          const element = document.querySelector('#df-d302402d-50b1-4421-b5d9-8e37253be666');\n",
              "          const dataTable =\n",
              "            await google.colab.kernel.invokeFunction('convertToInteractive',\n",
              "                                                     [key], {});\n",
              "          if (!dataTable) return;\n",
              "\n",
              "          const docLinkHtml = 'Like what you see? Visit the ' +\n",
              "            '<a target=\"_blank\" href=https://colab.research.google.com/notebooks/data_table.ipynb>data table notebook</a>'\n",
              "            + ' to learn more about interactive tables.';\n",
              "          element.innerHTML = '';\n",
              "          dataTable['output_type'] = 'display_data';\n",
              "          await google.colab.output.renderOutput(dataTable, element);\n",
              "          const docLink = document.createElement('div');\n",
              "          docLink.innerHTML = docLinkHtml;\n",
              "          element.appendChild(docLink);\n",
              "        }\n",
              "      </script>\n",
              "    </div>\n",
              "  </div>\n",
              "  "
            ]
          },
          "metadata": {},
          "execution_count": 282
        }
      ],
      "source": [
        "train_df.head(5)"
      ]
    },
    {
      "cell_type": "code",
      "execution_count": 283,
      "id": "68239b91-2a62-4e30-95dd-c2215ec14af0",
      "metadata": {
        "id": "68239b91-2a62-4e30-95dd-c2215ec14af0"
      },
      "outputs": [],
      "source": [
        "train_set = list(train_df.to_records(index=False))\n",
        "test_set = list(test_df.to_records(index=False))"
      ]
    },
    {
      "cell_type": "code",
      "source": [
        "train_set[:5]"
      ],
      "metadata": {
        "colab": {
          "base_uri": "https://localhost:8080/"
        },
        "id": "-Pic3P3RXcjk",
        "outputId": "adcc9385-f4af-4f85-c9af-2e4abb510635"
      },
      "id": "-Pic3P3RXcjk",
      "execution_count": 284,
      "outputs": [
        {
          "output_type": "execute_result",
          "data": {
            "text/plain": [
              "[('positive', 'one reviewer mentioned watching oz episode hooked right exactly happened first thing struck oz brutality unflinching scene violence set right word go trust show faint hearted timid show pull punch regard drug sex violence hardcore classic use word called oz nickname given oswald maximum security state penitentary focus mainly emerald city experimental section prison cell glass front face inwards privacy high agenda em city home many aryan muslim gangsta latino christian italian irish scuffle death stare dodgy dealing shady agreement never far away would say main appeal show due fact go show would dare forget pretty picture painted mainstream audience forget charm forget romance oz mess around first episode ever saw struck nasty surreal could say ready watched developed taste oz got accustomed high level graphic violence violence injustice crooked guard sold nickel inmate kill order get away well mannered middle class inmate turned prison bitch due lack street skill prison experience watching oz may become comfortable uncomfortable viewing thats get touch darker side'),\n",
              " ('positive', 'wonderful little production filming technique unassuming oldtimebbc fashion give comforting sometimes discomforting sense realism entire piece actor extremely well chosen michael sheen got polari voice pat truly see seamless editing guided reference williams diary entry well worth watching terrificly written performed piece masterful production one great master comedy life realism really come home little thing fantasy guard rather use traditional dream technique remains solid disappears play knowledge sens particularly scene concerning orton halliwell set particularly flat halliwells mural decorating every surface terribly well done'),\n",
              " ('positive', 'thought wonderful way spend time hot summer weekend sitting air conditioned theater watching lighthearted comedy plot simplistic dialogue witty character likable even well bread suspected serial killer may disappointed realize match point risk addiction thought proof woody allen still fully control style many u grown love would laughed one woodys comedy year dare say decade never impressed scarlet johanson managed tone sexy image jumped right average spirited young woman may crown jewel career wittier devil wear prada interesting superman great comedy go see friend'),\n",
              " ('negative', 'basically family little boy jake think zombie closet parent fighting time movie slower soap opera suddenly jake decides become rambo kill zombie ok first going make film must decide thriller drama drama movie watchable parent divorcing arguing like real life jake closet totally ruin film expected see boogeyman similar movie instead watched drama meaningless thriller spot well playing parent descent dialog shot jake ignore'),\n",
              " ('positive', 'petter matteis love time money visually stunning film watch mr mattei offer u vivid portrait human relation movie seems telling u money power success people different situation encounter variation arthur schnitzlers play theme director transfer action present time new york different character meet connect one connected one way another next person one seems know previous point contact stylishly film sophisticated luxurious look taken see people live world live habitat thing one get soul picture different stage loneliness one inhabits big city exactly best place human relation find sincere fulfillment one discerns case people encounter acting good mr matteis direction steve buscemi rosario dawson carol kane michael imperioli adrian grenier rest talented cast make character come alive wish mr mattei good luck await anxiously next work')]"
            ]
          },
          "metadata": {},
          "execution_count": 284
        }
      ]
    },
    {
      "cell_type": "code",
      "execution_count": 285,
      "id": "c163928b-c759-4606-bd35-45020ed1c592",
      "metadata": {
        "id": "c163928b-c759-4606-bd35-45020ed1c592",
        "outputId": "98549bd8-ebd4-4bdf-9ed7-994e60aa4bce",
        "colab": {
          "base_uri": "https://localhost:8080/"
        }
      },
      "outputs": [
        {
          "output_type": "execute_result",
          "data": {
            "text/plain": [
              "20000"
            ]
          },
          "metadata": {},
          "execution_count": 285
        }
      ],
      "source": [
        "len(train_set)"
      ]
    },
    {
      "cell_type": "code",
      "execution_count": 286,
      "id": "1dbc2bb5-c59c-4752-9677-f9a467bb0bdb",
      "metadata": {
        "id": "1dbc2bb5-c59c-4752-9677-f9a467bb0bdb",
        "outputId": "0051c2a0-3267-43b8-b3c6-1d4ad4f86d2b",
        "colab": {
          "base_uri": "https://localhost:8080/"
        }
      },
      "outputs": [
        {
          "output_type": "execute_result",
          "data": {
            "text/plain": [
              "9999"
            ]
          },
          "metadata": {},
          "execution_count": 286
        }
      ],
      "source": [
        "len(test_set)"
      ]
    },
    {
      "cell_type": "code",
      "execution_count": 287,
      "id": "87d6f657-1ee9-4118-a682-6d85c1458d83",
      "metadata": {
        "id": "87d6f657-1ee9-4118-a682-6d85c1458d83",
        "outputId": "a818eb83-9b79-4b1d-be3d-d89fdb991932",
        "colab": {
          "base_uri": "https://localhost:8080/"
        }
      },
      "outputs": [
        {
          "output_type": "execute_result",
          "data": {
            "text/plain": [
              "array(['positive', 'negative'], dtype=object)"
            ]
          },
          "metadata": {},
          "execution_count": 287
        }
      ],
      "source": [
        "train_df['sentiment'].unique()"
      ]
    },
    {
      "cell_type": "code",
      "execution_count": 288,
      "id": "8b8d3cd7-4bec-4680-896a-fe4ff9cc3bae",
      "metadata": {
        "id": "8b8d3cd7-4bec-4680-896a-fe4ff9cc3bae",
        "outputId": "218428b3-75d4-4768-dd87-eb25ce2d86a1",
        "colab": {
          "base_uri": "https://localhost:8080/"
        }
      },
      "outputs": [
        {
          "output_type": "execute_result",
          "data": {
            "text/plain": [
              "negative    10083\n",
              "positive     9917\n",
              "Name: sentiment, dtype: int64"
            ]
          },
          "metadata": {},
          "execution_count": 288
        }
      ],
      "source": [
        "train_df.sentiment.value_counts()"
      ]
    },
    {
      "cell_type": "code",
      "execution_count": 289,
      "id": "c725cc18-7733-45f3-8b64-3f31b946afa2",
      "metadata": {
        "id": "c725cc18-7733-45f3-8b64-3f31b946afa2"
      },
      "outputs": [],
      "source": [
        "tokenizer = get_tokenizer(\"basic_english\")\n",
        "tokens = tokenizer(\"This is just a test?\")"
      ]
    },
    {
      "cell_type": "code",
      "execution_count": 290,
      "id": "2e1c1e79-9e1d-4083-a64c-dc53e331890a",
      "metadata": {
        "id": "2e1c1e79-9e1d-4083-a64c-dc53e331890a",
        "outputId": "28c6abf4-1952-469b-9e49-ed181edde647",
        "colab": {
          "base_uri": "https://localhost:8080/"
        }
      },
      "outputs": [
        {
          "output_type": "execute_result",
          "data": {
            "text/plain": [
              "['this', 'is', 'just', 'a', 'test', '?']"
            ]
          },
          "metadata": {},
          "execution_count": 290
        }
      ],
      "source": [
        "tokens"
      ]
    },
    {
      "cell_type": "code",
      "execution_count": 291,
      "id": "8efd51f5-0a60-466e-b0e2-ba9940a75c59",
      "metadata": {
        "id": "8efd51f5-0a60-466e-b0e2-ba9940a75c59"
      },
      "outputs": [],
      "source": [
        "train_set = [(sentiment, tokenizer(review)) for sentiment, review in train_set]\n",
        "test_set = [(sentiment, tokenizer(review)) for sentiment, review in test_set]"
      ]
    },
    {
      "cell_type": "code",
      "execution_count": 292,
      "id": "fd8953dc-8e6f-4fd3-8b68-a4dff14438fe",
      "metadata": {
        "id": "fd8953dc-8e6f-4fd3-8b68-a4dff14438fe",
        "outputId": "bc84c2e6-7cfa-4e44-e57b-8b3a2aa25684",
        "colab": {
          "base_uri": "https://localhost:8080/"
        }
      },
      "outputs": [
        {
          "output_type": "execute_result",
          "data": {
            "text/plain": [
              "9999"
            ]
          },
          "metadata": {},
          "execution_count": 292
        }
      ],
      "source": [
        "len(test_set)"
      ]
    },
    {
      "cell_type": "code",
      "execution_count": 293,
      "id": "861b0920-611e-4785-8cb4-a482d9ae7549",
      "metadata": {
        "id": "861b0920-611e-4785-8cb4-a482d9ae7549"
      },
      "outputs": [],
      "source": [
        "#train_set[:1]"
      ]
    },
    {
      "cell_type": "markdown",
      "id": "d45d560b-d556-4d8a-88c4-2c6f7678a3a4",
      "metadata": {
        "id": "d45d560b-d556-4d8a-88c4-2c6f7678a3a4"
      },
      "source": [
        "## 4.1 embedding"
      ]
    },
    {
      "cell_type": "markdown",
      "id": "097751d8-6b91-43ca-a167-407e2bef7fe4",
      "metadata": {
        "id": "097751d8-6b91-43ca-a167-407e2bef7fe4"
      },
      "source": [
        "Firstly, we need to build our vocabulary."
      ]
    },
    {
      "cell_type": "code",
      "execution_count": 294,
      "id": "746b5bf6-b165-437d-9e54-9694a66de54a",
      "metadata": {
        "id": "746b5bf6-b165-437d-9e54-9694a66de54a"
      },
      "outputs": [],
      "source": [
        "word_vocab = set()\n",
        "word_vocab.add(\"<Start>\")\n",
        "word_vocab.add(\"<End>\")\n",
        "word_vocab.add(\"<Pad>\")\n",
        "\n",
        "for record in [train_set, test_set]:\n",
        "    for label, sen in record:\n",
        "        for word in sen:\n",
        "            word_vocab.add(word)    "
      ]
    },
    {
      "cell_type": "code",
      "execution_count": 295,
      "id": "af7ce478-2abf-44fc-8aa2-c2caf9bd4486",
      "metadata": {
        "id": "af7ce478-2abf-44fc-8aa2-c2caf9bd4486",
        "outputId": "90ceb4e1-ac6c-4643-9369-b032116556b1",
        "colab": {
          "base_uri": "https://localhost:8080/"
        }
      },
      "outputs": [
        {
          "output_type": "execute_result",
          "data": {
            "text/plain": [
              "107579"
            ]
          },
          "metadata": {},
          "execution_count": 295
        }
      ],
      "source": [
        "len(word_vocab)"
      ]
    },
    {
      "cell_type": "code",
      "execution_count": 296,
      "id": "e4770f9f-288b-4c23-942b-3b5feaca67e5",
      "metadata": {
        "id": "e4770f9f-288b-4c23-942b-3b5feaca67e5",
        "outputId": "1698f8a1-ab1a-43c2-847d-599eaafe80f9",
        "colab": {
          "base_uri": "https://localhost:8080/"
        }
      },
      "outputs": [
        {
          "output_type": "execute_result",
          "data": {
            "text/plain": [
              "['gabriel',\n",
              " 'lefler',\n",
              " 'girlsmy',\n",
              " 'mads',\n",
              " 'usines',\n",
              " 'genresee',\n",
              " 'unisten',\n",
              " 'henna',\n",
              " 'willowtotally',\n",
              " 'waltersrealizes']"
            ]
          },
          "metadata": {},
          "execution_count": 296
        }
      ],
      "source": [
        "list(word_vocab)[:10]"
      ]
    },
    {
      "cell_type": "code",
      "execution_count": 297,
      "id": "0add1168-2e6f-485c-bf38-a3bcb3cef36f",
      "metadata": {
        "id": "0add1168-2e6f-485c-bf38-a3bcb3cef36f"
      },
      "outputs": [],
      "source": [
        "word2id = {word: id for id, word in enumerate(word_vocab)}"
      ]
    },
    {
      "cell_type": "code",
      "execution_count": 298,
      "id": "379daeae-f106-4d55-8a01-6780558ab383",
      "metadata": {
        "id": "379daeae-f106-4d55-8a01-6780558ab383",
        "outputId": "3d43d708-4477-40f6-ffe8-e3d4586ef930",
        "colab": {
          "base_uri": "https://localhost:8080/"
        }
      },
      "outputs": [
        {
          "output_type": "execute_result",
          "data": {
            "text/plain": [
              "107579"
            ]
          },
          "metadata": {},
          "execution_count": 298
        }
      ],
      "source": [
        "len(word2id)"
      ]
    },
    {
      "cell_type": "code",
      "execution_count": 299,
      "id": "ac5c59f1-4747-43a1-a81e-db8fd0cd7a45",
      "metadata": {
        "id": "ac5c59f1-4747-43a1-a81e-db8fd0cd7a45"
      },
      "outputs": [],
      "source": [
        "#word2id"
      ]
    },
    {
      "cell_type": "code",
      "execution_count": 300,
      "id": "191f6584-b65d-4101-a81b-abfc3ba0592d",
      "metadata": {
        "id": "191f6584-b65d-4101-a81b-abfc3ba0592d",
        "outputId": "8ecfae61-2467-4be9-e691-5c0aa219ac4a",
        "colab": {
          "base_uri": "https://localhost:8080/"
        }
      },
      "outputs": [
        {
          "output_type": "execute_result",
          "data": {
            "text/plain": [
              "23003"
            ]
          },
          "metadata": {},
          "execution_count": 300
        }
      ],
      "source": [
        "word2id['hotties']"
      ]
    },
    {
      "cell_type": "code",
      "execution_count": 301,
      "id": "fbc318f0-4156-4c84-8bc1-92941b404122",
      "metadata": {
        "id": "fbc318f0-4156-4c84-8bc1-92941b404122",
        "outputId": "92dffe07-bf08-4c73-c1c1-5f04ac9c8266",
        "colab": {
          "base_uri": "https://localhost:8080/"
        }
      },
      "outputs": [
        {
          "output_type": "execute_result",
          "data": {
            "text/plain": [
              "17850"
            ]
          },
          "metadata": {},
          "execution_count": 301
        }
      ],
      "source": [
        "word2id['<Start>']"
      ]
    },
    {
      "cell_type": "markdown",
      "id": "f31b0e02-455d-4418-af1f-207aae4fcbba",
      "metadata": {
        "id": "f31b0e02-455d-4418-af1f-207aae4fcbba"
      },
      "source": [
        "The input of RNN should have the same size, which means that sentences must be of equal length, but this is not true. So we will set a maximum length. For example, we set the maximum length of the input sequence is 100, which means each sentence has at most 100 words, if the length of a sentence is less than 100, we should fill it with a pad; if the length of a sentence is greater than the maximum length, we should truncate the sentence to maximum length."
      ]
    },
    {
      "cell_type": "code",
      "execution_count": 302,
      "id": "9db24dac-5110-471c-ae98-0b6cee219201",
      "metadata": {
        "id": "9db24dac-5110-471c-ae98-0b6cee219201"
      },
      "outputs": [],
      "source": [
        "def encode_and_pad(sen, max_len):\n",
        "    start = [word2id[\"<Start>\"]]\n",
        "    end = [word2id[\"<End>\"]]\n",
        "    pad = [word2id[\"<Pad>\"]]\n",
        "\n",
        "    if len(sen) < max_len - 2: # 2 word for Start and End\n",
        "        n_pads = max_len - 2 - len(sen)\n",
        "        encoded = [word2id[w] for w in sen]\n",
        "        return start + encoded + end + pad * n_pads \n",
        "    else: \n",
        "        encoded = [word2id[w] for w in sen]\n",
        "        truncated = encoded[:max_len - 2]\n",
        "        return start + truncated + end"
      ]
    },
    {
      "cell_type": "code",
      "execution_count": 303,
      "id": "d17aab4f-e56f-4718-94a3-3b4de3c2d793",
      "metadata": {
        "id": "d17aab4f-e56f-4718-94a3-3b4de3c2d793"
      },
      "outputs": [],
      "source": [
        "def label_map(label):\n",
        "    if label == \"negative\":\n",
        "        return 0\n",
        "    elif label == \"positive\":\n",
        "        return 1"
      ]
    },
    {
      "cell_type": "code",
      "execution_count": 304,
      "id": "f6d245ec-01d4-4144-bdd7-fac54a9b5f57",
      "metadata": {
        "id": "f6d245ec-01d4-4144-bdd7-fac54a9b5f57"
      },
      "outputs": [],
      "source": [
        "train_encoded = [(encode_and_pad(sen, 100), label_map(label)) for label, sen in train_set]\n",
        "test_encoded = [(encode_and_pad(sen, 100), label_map(label)) for label, sen in test_set]"
      ]
    },
    {
      "cell_type": "code",
      "execution_count": 305,
      "id": "0303af34-3e95-4f87-b4f4-27ac7766caec",
      "metadata": {
        "id": "0303af34-3e95-4f87-b4f4-27ac7766caec"
      },
      "outputs": [],
      "source": [
        "batch_size = 64\n",
        "\n",
        "train_x = np.array([sen for sen, label in train_encoded])\n",
        "train_y = np.array([label for sen, label in train_encoded])\n",
        "test_x = np.array([sen for sen, label in test_encoded])\n",
        "test_y = np.array([label for sen, label in test_encoded])\n",
        "\n",
        "train_ds = TensorDataset(torch.from_numpy(train_x), torch.from_numpy(train_y))\n",
        "test_ds = TensorDataset(torch.from_numpy(test_x), torch.from_numpy(test_y))\n",
        "\n",
        "train_loader = DataLoader(train_ds, shuffle=True, batch_size=batch_size, drop_last=True)\n",
        "test_loader = DataLoader(test_ds, shuffle=True, batch_size=batch_size, drop_last=True)"
      ]
    },
    {
      "cell_type": "markdown",
      "id": "8ab13ca8-f86f-416a-ac66-3822a01c69c6",
      "metadata": {
        "id": "8ab13ca8-f86f-416a-ac66-3822a01c69c6"
      },
      "source": [
        "Notice the parameter drop_last=True. This is used for when the final batch does not have 64 elements. The batch is then incomplete and will cause dimension errors if we feed it into the model. By setting this parameter to True, we avoid this final batch."
      ]
    },
    {
      "cell_type": "markdown",
      "id": "88ce7479-58f7-46cb-a081-945d7afb0209",
      "metadata": {
        "id": "88ce7479-58f7-46cb-a081-945d7afb0209"
      },
      "source": [
        "## 4.2 model architecture"
      ]
    },
    {
      "cell_type": "code",
      "execution_count": 306,
      "id": "c5e72b72-f67f-4833-a058-6b66d6db19f4",
      "metadata": {
        "id": "c5e72b72-f67f-4833-a058-6b66d6db19f4"
      },
      "outputs": [],
      "source": [
        "class RNN_embedding(nn.Module):\n",
        "    def __init__(self, vocab_size, embedding_dim=50, hidden_size=128, num_layers=2, num_classes=2):\n",
        "        super().__init__()\n",
        "        self.num_layers = num_layers\n",
        "        self.hidden_size = hidden_size\n",
        "        self.embedding = nn.Embedding(vocab_size, embedding_dim, padding_idx=0)\n",
        "        self.rnn = nn.RNN(embedding_dim, hidden_size, num_layers, batch_first=True)\n",
        "        self.fc = nn.Linear(hidden_size, num_classes)\n",
        "        \n",
        "    def forward(self, x):\n",
        "        x = self.embedding(x)\n",
        "        out, _ = self.rnn(x)\n",
        "        # out: batch_size, seq_length, hidden_size\n",
        "        out = out[:, -1, :] # -1 only take the last time step\n",
        "        # out: batch_size, hidden_size\n",
        "        out = self.fc(out)\n",
        "        #out = F.relu(self.fc(out))\n",
        "        return out"
      ]
    },
    {
      "cell_type": "code",
      "execution_count": 307,
      "id": "59d01dd4-4477-4321-b5a7-0098dea79a7f",
      "metadata": {
        "id": "59d01dd4-4477-4321-b5a7-0098dea79a7f"
      },
      "outputs": [],
      "source": [
        "model_embedding = RNN_embedding(len(word2id))\n",
        "model_embedding = model_embedding.to(device)"
      ]
    },
    {
      "cell_type": "code",
      "execution_count": 308,
      "id": "a533e352-8185-4ffb-95cc-187bb4cd6289",
      "metadata": {
        "id": "a533e352-8185-4ffb-95cc-187bb4cd6289"
      },
      "outputs": [],
      "source": [
        "criterion = nn.CrossEntropyLoss()\n",
        "optimizer = torch.optim.Adam(model_embedding.parameters(), lr = 1e-4)"
      ]
    },
    {
      "cell_type": "markdown",
      "id": "c4f4c849-ae32-41c0-b385-6714022e6207",
      "metadata": {
        "id": "c4f4c849-ae32-41c0-b385-6714022e6207"
      },
      "source": [
        "## 4.3 training and testing"
      ]
    },
    {
      "cell_type": "code",
      "execution_count": 309,
      "id": "a2f7bec0-1a5b-4d75-a84d-bad6c46f7b2c",
      "metadata": {
        "id": "a2f7bec0-1a5b-4d75-a84d-bad6c46f7b2c"
      },
      "outputs": [],
      "source": [
        "def train(model, train_loader, n_epochs, optimizer, criterion, batch_size=64):\n",
        "    model.train()\n",
        "    \n",
        "    for epoch in range(n_epochs):\n",
        "        train_loss = 0.0\n",
        "        for i,(data, label) in enumerate(train_loader):\n",
        "            data, label = data.to(device), label.to(device)\n",
        "            \n",
        "            optimizer.zero_grad()\n",
        "            predictions = model(data)\n",
        "\n",
        "            loss = criterion(predictions, label)        \n",
        "            loss.backward()\n",
        "            optimizer.step()\n",
        "        \n",
        "            train_loss += loss.item()\n",
        "            #if (i+1) % 100 == 0:\n",
        "            #    print('Epoch: {} \\tStep:{} \\tTraining Loss: {:.6f} '.format(epoch+1, i+1, loss.item()))\n",
        "        train_loss = train_loss/(len(train_loader.dataset)//batch_size)\n",
        "    \n",
        "        print('Epoch: {} \\tTraining Loss: {:.6f} '.format(epoch+1, train_loss))"
      ]
    },
    {
      "cell_type": "code",
      "execution_count": 310,
      "id": "9a035ac3-5120-49c9-b07d-587fd3d28f44",
      "metadata": {
        "id": "9a035ac3-5120-49c9-b07d-587fd3d28f44",
        "outputId": "37a18d18-3a1e-40b6-b001-304bc540ed21",
        "colab": {
          "base_uri": "https://localhost:8080/"
        }
      },
      "outputs": [
        {
          "output_type": "stream",
          "name": "stdout",
          "text": [
            "Epoch: 1 \tTraining Loss: 0.694978 \n",
            "Epoch: 2 \tTraining Loss: 0.693192 \n",
            "Epoch: 3 \tTraining Loss: 0.692055 \n",
            "Epoch: 4 \tTraining Loss: 0.690506 \n",
            "Epoch: 5 \tTraining Loss: 0.688342 \n",
            "Epoch: 6 \tTraining Loss: 0.685666 \n",
            "Epoch: 7 \tTraining Loss: 0.681275 \n",
            "Epoch: 8 \tTraining Loss: 0.682120 \n",
            "Epoch: 9 \tTraining Loss: 0.673845 \n",
            "Epoch: 10 \tTraining Loss: 0.666978 \n",
            "Epoch: 11 \tTraining Loss: 0.667385 \n",
            "Epoch: 12 \tTraining Loss: 0.665881 \n",
            "Epoch: 13 \tTraining Loss: 0.662001 \n",
            "Epoch: 14 \tTraining Loss: 0.655957 \n",
            "Epoch: 15 \tTraining Loss: 0.669754 \n",
            "Epoch: 16 \tTraining Loss: 0.668914 \n",
            "Epoch: 17 \tTraining Loss: 0.664436 \n",
            "Epoch: 18 \tTraining Loss: 0.660835 \n",
            "Epoch: 19 \tTraining Loss: 0.653110 \n",
            "Epoch: 20 \tTraining Loss: 0.632084 \n",
            "Epoch: 21 \tTraining Loss: 0.618741 \n",
            "Epoch: 22 \tTraining Loss: 0.613139 \n",
            "Epoch: 23 \tTraining Loss: 0.644057 \n",
            "Epoch: 24 \tTraining Loss: 0.617941 \n",
            "Epoch: 25 \tTraining Loss: 0.611910 \n",
            "Epoch: 26 \tTraining Loss: 0.596427 \n",
            "Epoch: 27 \tTraining Loss: 0.583678 \n",
            "Epoch: 28 \tTraining Loss: 0.572744 \n",
            "Epoch: 29 \tTraining Loss: 0.591702 \n",
            "Epoch: 30 \tTraining Loss: 0.581391 \n",
            "Epoch: 31 \tTraining Loss: 0.551663 \n",
            "Epoch: 32 \tTraining Loss: 0.563670 \n",
            "Epoch: 33 \tTraining Loss: 0.603653 \n",
            "Epoch: 34 \tTraining Loss: 0.594277 \n",
            "Epoch: 35 \tTraining Loss: 0.585966 \n",
            "Epoch: 36 \tTraining Loss: 0.554032 \n",
            "Epoch: 37 \tTraining Loss: 0.530193 \n",
            "Epoch: 38 \tTraining Loss: 0.622081 \n",
            "Epoch: 39 \tTraining Loss: 0.608269 \n",
            "Epoch: 40 \tTraining Loss: 0.580077 \n",
            "Epoch: 41 \tTraining Loss: 0.634357 \n",
            "Epoch: 42 \tTraining Loss: 0.634983 \n",
            "Epoch: 43 \tTraining Loss: 0.627150 \n",
            "Epoch: 44 \tTraining Loss: 0.620189 \n",
            "Epoch: 45 \tTraining Loss: 0.615508 \n",
            "Epoch: 46 \tTraining Loss: 0.607753 \n",
            "Epoch: 47 \tTraining Loss: 0.597764 \n",
            "Epoch: 48 \tTraining Loss: 0.591205 \n",
            "Epoch: 49 \tTraining Loss: 0.582142 \n",
            "Epoch: 50 \tTraining Loss: 0.556338 \n",
            "Epoch: 51 \tTraining Loss: 0.556586 \n",
            "Epoch: 52 \tTraining Loss: 0.536971 \n",
            "Epoch: 53 \tTraining Loss: 0.519409 \n",
            "Epoch: 54 \tTraining Loss: 0.484211 \n",
            "Epoch: 55 \tTraining Loss: 0.474691 \n",
            "Epoch: 56 \tTraining Loss: 0.471193 \n",
            "Epoch: 57 \tTraining Loss: 0.463952 \n",
            "Epoch: 58 \tTraining Loss: 0.542225 \n",
            "Epoch: 59 \tTraining Loss: 0.528050 \n",
            "Epoch: 60 \tTraining Loss: 0.465348 \n",
            "Epoch: 61 \tTraining Loss: 0.443461 \n",
            "Epoch: 62 \tTraining Loss: 0.510638 \n",
            "Epoch: 63 \tTraining Loss: 0.452320 \n",
            "Epoch: 64 \tTraining Loss: 0.427358 \n",
            "Epoch: 65 \tTraining Loss: 0.420300 \n",
            "Epoch: 66 \tTraining Loss: 0.441943 \n",
            "Epoch: 67 \tTraining Loss: 0.430526 \n",
            "Epoch: 68 \tTraining Loss: 0.470525 \n",
            "Epoch: 69 \tTraining Loss: 0.419990 \n",
            "Epoch: 70 \tTraining Loss: 0.421923 \n",
            "Epoch: 71 \tTraining Loss: 0.410908 \n",
            "Epoch: 72 \tTraining Loss: 0.426657 \n",
            "Epoch: 73 \tTraining Loss: 0.435786 \n",
            "Epoch: 74 \tTraining Loss: 0.404230 \n",
            "Epoch: 75 \tTraining Loss: 0.438162 \n",
            "Epoch: 76 \tTraining Loss: 0.395080 \n",
            "Epoch: 77 \tTraining Loss: 0.406219 \n",
            "Epoch: 78 \tTraining Loss: 0.477072 \n",
            "Epoch: 79 \tTraining Loss: 0.533940 \n",
            "Epoch: 80 \tTraining Loss: 0.556366 \n",
            "Epoch: 81 \tTraining Loss: 0.463273 \n",
            "Epoch: 82 \tTraining Loss: 0.392656 \n",
            "Epoch: 83 \tTraining Loss: 0.382398 \n",
            "Epoch: 84 \tTraining Loss: 0.405998 \n",
            "Epoch: 85 \tTraining Loss: 0.427171 \n",
            "Epoch: 86 \tTraining Loss: 0.431935 \n",
            "Epoch: 87 \tTraining Loss: 0.394777 \n",
            "Epoch: 88 \tTraining Loss: 0.459954 \n",
            "Epoch: 89 \tTraining Loss: 0.525063 \n",
            "Epoch: 90 \tTraining Loss: 0.512409 \n",
            "Epoch: 91 \tTraining Loss: 0.473400 \n",
            "Epoch: 92 \tTraining Loss: 0.409358 \n",
            "Epoch: 93 \tTraining Loss: 0.415470 \n",
            "Epoch: 94 \tTraining Loss: 0.432228 \n",
            "Epoch: 95 \tTraining Loss: 0.404220 \n",
            "Epoch: 96 \tTraining Loss: 0.380036 \n",
            "Epoch: 97 \tTraining Loss: 0.366458 \n",
            "Epoch: 98 \tTraining Loss: 0.353631 \n",
            "Epoch: 99 \tTraining Loss: 0.446746 \n",
            "Epoch: 100 \tTraining Loss: 0.413231 \n",
            "Epoch: 101 \tTraining Loss: 0.507771 \n",
            "Epoch: 102 \tTraining Loss: 0.466322 \n",
            "Epoch: 103 \tTraining Loss: 0.405963 \n",
            "Epoch: 104 \tTraining Loss: 0.402973 \n",
            "Epoch: 105 \tTraining Loss: 0.374895 \n",
            "Epoch: 106 \tTraining Loss: 0.332121 \n",
            "Epoch: 107 \tTraining Loss: 0.351441 \n",
            "Epoch: 108 \tTraining Loss: 0.333221 \n",
            "Epoch: 109 \tTraining Loss: 0.356827 \n",
            "Epoch: 110 \tTraining Loss: 0.322474 \n",
            "Epoch: 111 \tTraining Loss: 0.325757 \n",
            "Epoch: 112 \tTraining Loss: 0.358867 \n",
            "Epoch: 113 \tTraining Loss: 0.385476 \n",
            "Epoch: 114 \tTraining Loss: 0.328502 \n",
            "Epoch: 115 \tTraining Loss: 0.418438 \n",
            "Epoch: 116 \tTraining Loss: 0.372694 \n",
            "Epoch: 117 \tTraining Loss: 0.366957 \n",
            "Epoch: 118 \tTraining Loss: 0.485202 \n",
            "Epoch: 119 \tTraining Loss: 0.376474 \n",
            "Epoch: 120 \tTraining Loss: 0.327594 \n",
            "Epoch: 121 \tTraining Loss: 0.327320 \n",
            "Epoch: 122 \tTraining Loss: 0.389519 \n",
            "Epoch: 123 \tTraining Loss: 0.382207 \n",
            "Epoch: 124 \tTraining Loss: 0.313706 \n",
            "Epoch: 125 \tTraining Loss: 0.310219 \n",
            "Epoch: 126 \tTraining Loss: 0.338313 \n",
            "Epoch: 127 \tTraining Loss: 0.322617 \n",
            "Epoch: 128 \tTraining Loss: 0.299777 \n",
            "Epoch: 129 \tTraining Loss: 0.291341 \n",
            "Epoch: 130 \tTraining Loss: 0.291452 \n",
            "Epoch: 131 \tTraining Loss: 0.328302 \n",
            "Epoch: 132 \tTraining Loss: 0.347582 \n",
            "Epoch: 133 \tTraining Loss: 0.405831 \n",
            "Epoch: 134 \tTraining Loss: 0.384049 \n",
            "Epoch: 135 \tTraining Loss: 0.443584 \n",
            "Epoch: 136 \tTraining Loss: 0.364943 \n",
            "Epoch: 137 \tTraining Loss: 0.302421 \n",
            "Epoch: 138 \tTraining Loss: 0.292778 \n",
            "Epoch: 139 \tTraining Loss: 0.289345 \n",
            "Epoch: 140 \tTraining Loss: 0.285513 \n",
            "Epoch: 141 \tTraining Loss: 0.343341 \n",
            "Epoch: 142 \tTraining Loss: 0.293004 \n",
            "Epoch: 143 \tTraining Loss: 0.282098 \n",
            "Epoch: 144 \tTraining Loss: 0.276603 \n",
            "Epoch: 145 \tTraining Loss: 0.274783 \n",
            "Epoch: 146 \tTraining Loss: 0.273459 \n",
            "Epoch: 147 \tTraining Loss: 0.266738 \n",
            "Epoch: 148 \tTraining Loss: 0.265862 \n",
            "Epoch: 149 \tTraining Loss: 0.264931 \n",
            "Epoch: 150 \tTraining Loss: 0.313709 \n"
          ]
        }
      ],
      "source": [
        "train(model_embedding, train_loader, 150, optimizer, criterion)"
      ]
    },
    {
      "cell_type": "code",
      "execution_count": 311,
      "id": "b2cc974e-b79d-4a6c-afed-8b725800f585",
      "metadata": {
        "id": "b2cc974e-b79d-4a6c-afed-8b725800f585"
      },
      "outputs": [],
      "source": [
        "def evaluate(model, test_loader):   \n",
        "    batch_acc = []\n",
        "    batch_pre = []\n",
        "    batch_recall = []\n",
        "    batch_f1 = []\n",
        "    for i,(data, label) in enumerate(test_loader):\n",
        "        data, label = data.to(device), label.to(device)\n",
        "        \n",
        "        predictions = model(data)\n",
        "        #print(predictions)\n",
        "        pred = [0 if prob[0]> prob[1] else 1 for prob in predictions]\n",
        "        acc = accuracy_score(label.cpu(), pred)\n",
        "        pre = precision_score(label.cpu(), pred)\n",
        "        recall = recall_score(label.cpu(), pred)\n",
        "        f1 = f1_score(label.cpu(), pred)\n",
        "        \n",
        "        batch_acc.append(acc)\n",
        "        batch_pre.append(pre)\n",
        "        batch_recall.append(recall)\n",
        "        batch_f1.append(f1)    \n",
        "    print('Precision: {:.3f}\\tRecall: {:.3f}\\tF1:{:.3f}\\tAccuracy: {:.3f}'.\\\n",
        "          format(sum(batch_pre)/len(batch_pre), sum(batch_recall)/len(batch_recall),\n",
        "                 sum(batch_f1)/len(batch_f1), sum(batch_acc)/len(batch_acc)))"
      ]
    },
    {
      "cell_type": "code",
      "execution_count": 312,
      "id": "55c83f79-1d48-4804-b270-b653902ab4bb",
      "metadata": {
        "id": "55c83f79-1d48-4804-b270-b653902ab4bb",
        "outputId": "ddc20e0f-0a89-4f62-d221-adbb95b15e15",
        "colab": {
          "base_uri": "https://localhost:8080/"
        }
      },
      "outputs": [
        {
          "output_type": "stream",
          "name": "stdout",
          "text": [
            "Precision: 0.748\tRecall: 0.665\tF1:0.700\tAccuracy: 0.712\n"
          ]
        }
      ],
      "source": [
        "evaluate(model_embedding, test_loader)"
      ]
    },
    {
      "cell_type": "markdown",
      "id": "aaea89e3-e7d7-401a-8cfb-ebc2fa858d24",
      "metadata": {
        "id": "aaea89e3-e7d7-401a-8cfb-ebc2fa858d24"
      },
      "source": [
        "# 5. Image Classification with CNN"
      ]
    },
    {
      "cell_type": "markdown",
      "id": "447ff333-118c-466c-b07c-73da978db705",
      "metadata": {
        "id": "447ff333-118c-466c-b07c-73da978db705"
      },
      "source": [
        "In this part, we will be using PyTorch to train a convolutional neural network to recognize MNIST's handwritten digits\n",
        "\n",
        "The [MNIST dataset](http://yann.lecun.com/exdb/mnist/) is a large dataset of handwritten digits that is commonly used for training various image processing systems. It contains 60,000 training images and 10,000 testing images. "
      ]
    },
    {
      "cell_type": "markdown",
      "id": "33f12538-5b7c-4f9c-9d7a-11802fa8b232",
      "metadata": {
        "id": "33f12538-5b7c-4f9c-9d7a-11802fa8b232"
      },
      "source": [
        "We can load the MNIST dataset by TorchVision. We use a batch_size of 64 for training and testing on this dataset. The values 0.1307 and 0.3081 used for the Normalize() transformation below are the global mean and standard deviation of the MNIST dataset, after applying the transforms.Normalize, the data would be scaled and shifted to a zero mean and standard deviation of one. Num_workers=2, means we are using 2 subprocesses to asynchronously load data. "
      ]
    },
    {
      "cell_type": "code",
      "execution_count": 313,
      "id": "00772492-c457-43ca-814e-7cddbcb4a446",
      "metadata": {
        "id": "00772492-c457-43ca-814e-7cddbcb4a446"
      },
      "outputs": [],
      "source": [
        "def MNISTloader(path, batch_size=64):\n",
        "    transform = transforms.Compose([transforms.ToTensor(), transforms.Normalize((0.1307,), (0.3081,))])\n",
        "\n",
        "    train_set = torchvision.datasets.MNIST(root=path, train=True, download=True, transform=transform)\n",
        "    test_set = torchvision.datasets.MNIST(root=path, train=False, download=True, transform=transform)\n",
        "    \n",
        "    train_loader = torch.utils.data.DataLoader(train_set, batch_size=batch_size, shuffle=True, num_workers=2)    \n",
        "    test_loader = torch.utils.data.DataLoader(test_set, batch_size=batch_size, shuffle=False, num_workers=2)\n",
        "\n",
        "    return train_loader, test_loader"
      ]
    },
    {
      "cell_type": "markdown",
      "id": "5f6a567b-e48b-4254-b82a-e48d3d510378",
      "metadata": {
        "id": "5f6a567b-e48b-4254-b82a-e48d3d510378"
      },
      "source": [
        "Now let's build our model. We'll use two 2-D convolutional layers followed by two fully-connected (or linear) layers. As activation function we'll choose rectified linear units (ReLUs in short). \n",
        "\n",
        "A pooling layer is a new layer added after the convolutional layer. Specifically, after a nonlinearity (e.g. ReLU) has been applied to the feature maps output by a convolutional layer. It's common to add a pooling layer after the convolutional layer for ordering layers within a convolutional neural network that may be repeated one or more times in a given model. The pooling layer operates upon each feature map separately to create a new set of the same number of pooled feature maps. Pooling involves selecting a pooling operation, much like a filter to be applied to feature maps. The size of the pooling operation or filter is smaller than the size of the feature map.\n",
        "\n",
        "In this model, the size of first convolutional layer's filter is 3 $\\times$ 3, and second layer is 5 $\\times$ 5, \n",
        "\n",
        "size of pooling is 2 $\\times$ 2, stride is also 2 $\\times$ 2, and it's max-pooling (Max pooling is the most widely used pooling technique since it captures the features of maximum importance with it). \n",
        "\n",
        "For more details about pooling, you can check this official tutorial provided by Pytorch ([pooling](https://pytorch.org/docs/stable/nn.html#pooling-layers))."
      ]
    },
    {
      "cell_type": "code",
      "execution_count": 314,
      "id": "2258c267-ca9b-4d1e-8a25-190183d1afd7",
      "metadata": {
        "id": "2258c267-ca9b-4d1e-8a25-190183d1afd7"
      },
      "outputs": [],
      "source": [
        "class CNN_MNIST_Net(nn.Module):\n",
        "    def __init__(self):\n",
        "        super().__init__()\n",
        "        self.conv1 = nn.Conv2d(1, 6, 3)\n",
        "        self.pool = nn.MaxPool2d(2, 2)\n",
        "        self.conv2 = nn.Conv2d(6, 16, 5)\n",
        "        self.fc1 = nn.Linear(16 * 4 * 4, 1024)\n",
        "        self.fc2 = nn.Linear(1024, 10)\n",
        "\n",
        "    def forward(self, x):\n",
        "        x = self.pool(F.relu(self.conv1(x)))\n",
        "        x = self.pool(F.relu(self.conv2(x)))\n",
        "        x = torch.flatten(x, 1) # flatten all dimensions except batch\n",
        "        x = F.relu(self.fc1(x))\n",
        "        x = F.softmax(self.fc2(x), dim=1)\n",
        "        return x"
      ]
    },
    {
      "cell_type": "markdown",
      "id": "e8d3acff-392d-4717-897c-128a1ec0fe16",
      "metadata": {
        "id": "e8d3acff-392d-4717-897c-128a1ec0fe16"
      },
      "source": [
        "One thing we need to be careful is the input of first linear layer. More details about [convolution arithmetic](https://arxiv.org/pdf/1603.07285.pdf).\n",
        "\n",
        "for convolutional layer,\n",
        "$$\n",
        "o = \\frac{i - f + 2 *p}{s} + 1\n",
        "$$\n",
        "for pooling,\n",
        "$$o = \\lfloor \\frac{i - k}{s} \\rfloor + 1$$     \n",
        "\n",
        "conv1: 1 $\\times$ 28 $\\times$ 28  --> 6 $\\times$ 26 $\\times$ 26\n",
        "\n",
        "pooling: 6 $\\times$ 26 $\\times$ 26 --> 6 $\\times$ 13 $\\times$ 13\n",
        "\n",
        "conv2: 6 $\\times$ 13 $\\times$ 13  --> 16 $\\times$ 9 $\\times$ 9\n",
        "\n",
        "pooling: 16 $\\times$ 9 $\\times$ 9 --> 16 $\\times$ 4 $\\times$ 4"
      ]
    },
    {
      "cell_type": "code",
      "execution_count": 315,
      "id": "6f771544-6eb3-4783-925a-26bebd2e2c19",
      "metadata": {
        "id": "6f771544-6eb3-4783-925a-26bebd2e2c19"
      },
      "outputs": [],
      "source": [
        "def train(model, train_loader, n_epochs, optimizer, criterion, batch_size=64):\n",
        "    model.train()\n",
        "\n",
        "    for epoch in range(n_epochs):  # loop over the dataset multiple times\n",
        "        train_loss = 0.0\n",
        "        running_loss = 0.0\n",
        "        for i, (inputs, labels) in enumerate(train_loader):\n",
        "            inputs, labels = inputs.to(device), labels.to(device)\n",
        "            optimizer.zero_grad()\n",
        "            \n",
        "            outputs = model(inputs)\n",
        "            loss = criterion(outputs, labels)\n",
        "            #print(\"outputs:{}\\t lable:{}\\t loss:{}\".format(outputs, labels, loss))\n",
        "            loss.backward()\n",
        "            optimizer.step()\n",
        "\n",
        "            train_loss += loss.item()\n",
        "            running_loss += loss.item()\n",
        "        train_loss = train_loss/(len(train_loader.dataset)//batch_size)\n",
        "\n",
        "        print('Epoch: {} \\tTraining Loss: {:.6f} '.format(epoch+1, train_loss))\n",
        "\n",
        "    print('Finished Training')"
      ]
    },
    {
      "cell_type": "code",
      "execution_count": 316,
      "id": "e6808160-1792-4b26-aa97-b6aa441d2d65",
      "metadata": {
        "id": "e6808160-1792-4b26-aa97-b6aa441d2d65",
        "outputId": "ad3219df-fbea-4e44-8a3a-9e55cb097bdc",
        "colab": {
          "base_uri": "https://localhost:8080/"
        }
      },
      "outputs": [
        {
          "output_type": "stream",
          "name": "stdout",
          "text": [
            "Epoch: 1 \tTraining Loss: 2.103421 \n",
            "Epoch: 2 \tTraining Loss: 1.731681 \n",
            "Epoch: 3 \tTraining Loss: 1.706670 \n",
            "Epoch: 4 \tTraining Loss: 1.642637 \n",
            "Epoch: 5 \tTraining Loss: 1.541607 \n",
            "Finished Training\n"
          ]
        }
      ],
      "source": [
        "mnist_train, mnist_test = MNISTloader(\"./data\")\n",
        "model_mnist = CNN_MNIST_Net().to(device)\n",
        "criterion = nn.CrossEntropyLoss()\n",
        "optimizer = optim.SGD(model_mnist.parameters(), lr=0.001, momentum=0.9)\n",
        "train(model_mnist, mnist_train, 5, optimizer, criterion)"
      ]
    },
    {
      "cell_type": "code",
      "execution_count": 317,
      "id": "9f064804-5fbe-468b-adf5-ea7073cf0ee7",
      "metadata": {
        "id": "9f064804-5fbe-468b-adf5-ea7073cf0ee7"
      },
      "outputs": [],
      "source": [
        "def evaluate(model, test_loader):\n",
        "    batch_acc = []\n",
        "    batch_pre = []\n",
        "    batch_recall = []\n",
        "    batch_f1 = []\n",
        "    for data, label in test_loader:\n",
        "        data = data.to(device)\n",
        "        label = label.to(device)\n",
        "\n",
        "        predictions = np.array(model(data).to(\"cpu\").tolist())\n",
        "        pred_index = np.argmax(predictions, axis=1)\n",
        "        pred = pred_index.tolist()\n",
        "        acc = accuracy_score(pred, label.tolist())\n",
        "        pre = precision_score(pred, label.tolist(), average='micro')\n",
        "        recall = recall_score(pred, label.tolist(), average='micro')\n",
        "        f1 = f1_score(pred, label.tolist(), average='micro')\n",
        "\n",
        "        batch_acc.append(acc)\n",
        "        batch_pre.append(pre)\n",
        "        batch_recall.append(recall)\n",
        "        batch_f1.append(f1)\n",
        "    print('Precision: {:.3f}\\tRecall: {:.3f}\\tF1:{:.3f}\\tAccuracy: {:.3f}'. \\\n",
        "          format(sum(batch_pre)/len(batch_pre), sum(batch_recall)/len(batch_recall),\n",
        "                 sum(batch_f1)/len(batch_f1), sum(batch_acc)/len(batch_acc)))"
      ]
    },
    {
      "cell_type": "code",
      "execution_count": 318,
      "id": "47bd7a74-84ae-4ee1-9847-7ac9f269ef84",
      "metadata": {
        "id": "47bd7a74-84ae-4ee1-9847-7ac9f269ef84",
        "outputId": "07858571-c552-4560-a72d-d5b225c72fb5",
        "colab": {
          "base_uri": "https://localhost:8080/"
        }
      },
      "outputs": [
        {
          "output_type": "stream",
          "name": "stdout",
          "text": [
            "Precision: 0.947\tRecall: 0.947\tF1:0.947\tAccuracy: 0.947\n"
          ]
        }
      ],
      "source": [
        "evaluate(model_mnist, mnist_test)"
      ]
    },
    {
      "cell_type": "markdown",
      "id": "7c10e403-975c-4cb4-bddb-4e4914d6271c",
      "metadata": {
        "id": "7c10e403-975c-4cb4-bddb-4e4914d6271c"
      },
      "source": [
        "To have a more intuitive feeling about the performance of our model, we can sample some images, and plot these images with their true labels and predicted labels."
      ]
    },
    {
      "cell_type": "code",
      "execution_count": 319,
      "id": "48829b0c-e88c-4b61-8b69-f9793cb39e48",
      "metadata": {
        "id": "48829b0c-e88c-4b61-8b69-f9793cb39e48"
      },
      "outputs": [],
      "source": [
        "examples = enumerate(mnist_test)\n",
        "batch_idx, (example_data, example_targets) = next(examples)"
      ]
    },
    {
      "cell_type": "code",
      "execution_count": 320,
      "id": "36b0c3e6-f267-401f-a066-41290fb2e0a0",
      "metadata": {
        "id": "36b0c3e6-f267-401f-a066-41290fb2e0a0",
        "outputId": "835c1278-01d1-4b58-87f7-407e03eba961",
        "colab": {
          "base_uri": "https://localhost:8080/",
          "height": 242
        }
      },
      "outputs": [
        {
          "output_type": "display_data",
          "data": {
            "text/plain": [
              "<Figure size 432x288 with 10 Axes>"
            ],
            "image/png": "[encoded data removed]"
          },
          "metadata": {}
        }
      ],
      "source": [
        "for i in range(10):\n",
        "  plt.subplot(2, 5, i+1)\n",
        "  #plt.tight_layout()\n",
        "  plt.imshow(example_data[i][0], cmap='gray', interpolation='none')\n",
        "  output = model_mnist(example_data.to(device))\n",
        "  plt.title(\"Label:{} \\nPred: {}\".format(example_targets.data[i].item(), output.data.max(1, keepdim=True)[1][i].item()))\n",
        "  plt.xticks([])\n",
        "  plt.yticks([])"
      ]
    }
  ],
  "metadata": {
    "kernelspec": {
      "display_name": "Python(longfeng-conda-base)",
      "language": "python",
      "name": "longfeng-conda-base"
    },
    "language_info": {
      "codemirror_mode": {
        "name": "ipython",
        "version": 3
      },
      "file_extension": ".py",
      "mimetype": "text/x-python",
      "name": "python",
      "nbconvert_exporter": "python",
      "pygments_lexer": "ipython3",
      "version": "3.9.7"
    },
    "colab": {
      "provenance": []
    },
    "accelerator": "GPU"
  },
  "nbformat": 4,
  "nbformat_minor": 5
}